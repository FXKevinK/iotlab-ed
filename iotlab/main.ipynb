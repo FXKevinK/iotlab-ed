{
 "cells": [
  {
   "cell_type": "code",
   "execution_count": 6,
   "metadata": {},
   "outputs": [],
   "source": [
    "from iotlabcli import auth, status"
   ]
  },
  {
   "cell_type": "code",
   "execution_count": 14,
   "metadata": {},
   "outputs": [
    {
     "name": "stdout",
     "output_type": "stream",
     "text": [
      "usage: iotlab-auth [-h] [-u USERNAME] [-p PASSWORD] [-v] [--jmespath JMESPATH]\n",
      "                   [--format FORMAT] [-k] [-i IDENTITY_FILE] [-l]\n",
      "iotlab-auth: error: Key is already configured:\n",
      "\"ssh-rsa AAAAB3NzaC1yc2EAAAADAQABAAABAQDJrhGpqxvJ94T1501XCp7YgyAk9PXNl4jHQyuD+FmlFXkwNeENsLg1CPZSJNYWC5JYvBdCK+vUI8NU6qxRRMZGj+jQOoj3dVtf4CFV1sxbe9Yk3s4RU7hmFgjO5D/w0BHAhpNYe/2FolPnsxlNVvZW3E6TjeHTnsEYlPB5CSPlaB3/Ar7iGXZHv6YAgFAlQ/t1XEnSjPh/QGPwtLYpj6fNE4Balrdoih/TuVvKYuAQFy9PfOyryxto+UmoKYec+XFtJyi7SaAZl9+7Tv0fDdEyKVnGVsKIGXLfSQmVGw4Qth08fq7c3Rx9zhFtzsGMwT7Oh+nWIT2cknNyZ8JHbrkJ <comment>\"\n"
     ]
    }
   ],
   "source": [
    "!iotlab-auth --add-ssh-key"
   ]
  },
  {
   "cell_type": "code",
   "execution_count": 13,
   "metadata": {},
   "outputs": [
    {
     "name": "stdout",
     "output_type": "stream",
     "text": [
      "usage: iotlab-status [-h] [-u USERNAME] [-p PASSWORD] [-v]\n",
      "                     [--jmespath JMESPATH] [--format FORMAT]\n",
      "                     (-s | -n | -ni | -er) [--site NODES_SELECTION]\n",
      "                     [--archi NODES_SELECTION] [--state NODES_SELECTION]\n",
      "iotlab-status: error: one of the arguments -s/--sites -n/--nodes -ni/--nodes-ids -er/--experiments-running is required\n"
     ]
    }
   ],
   "source": [
    "!iotlab-status"
   ]
  }
 ],
 "metadata": {
  "kernelspec": {
   "display_name": "Python 3.7.13 ('py37')",
   "language": "python",
   "name": "python3"
  },
  "language_info": {
   "codemirror_mode": {
    "name": "ipython",
    "version": 3
   },
   "file_extension": ".py",
   "mimetype": "text/x-python",
   "name": "python",
   "nbconvert_exporter": "python",
   "pygments_lexer": "ipython3",
   "version": "3.7.13"
  },
  "orig_nbformat": 4,
  "vscode": {
   "interpreter": {
    "hash": "7e7a7d138e1807293d1e3f8013295cd32ce1ecfefa78d2e112676f884ff9955c"
   }
  }
 },
 "nbformat": 4,
 "nbformat_minor": 2
}
