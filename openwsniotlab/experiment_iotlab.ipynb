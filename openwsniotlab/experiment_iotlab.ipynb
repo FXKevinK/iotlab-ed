{
 "cells": [
  {
   "cell_type": "code",
   "execution_count": 26,
   "metadata": {},
   "outputs": [
    {
     "name": "stdout",
     "output_type": "stream",
     "text": [
      "1+2+19+20+29+30+47+48+53+54+5+6+21+22+33+34+49+50+57+58+9+10+23+24+37+38+51+52+61+62\n",
      "1+2+19+29+30+48+53+54+5+6+21+33+34+50+57+58+9+10+23+37+38+52+61+62\n",
      "47+20+22+49+24+51\n"
     ]
    }
   ],
   "source": [
    "import json\n",
    "import os\n",
    "from datetime import datetime\n",
    "from appdirs import user_data_dir\n",
    "\n",
    "\n",
    "timestamp = datetime.now().strftime(\"%Y%m%d-%H-%M-%S\")\n",
    "duration_h = 2\n",
    "algo = 'ori'\n",
    "\n",
    "use_large = True\n",
    "add_or_remove = True\n",
    "\n",
    "app_path = f\"/Users/dzakyzf/lain/iotlab/openwsniotlab/openwsn-fw/build/iot-lab_M3_armgcc/projects/common/03oos_openwsn_prog\"\n",
    "site = \"strasbourg\"\n",
    "energy_profile = \"energym3\"\n",
    "\n",
    "small_nodes = [1,2,19,20,29,30,47,48,53,54] # 10\n",
    "small_nodes_root = 29\n",
    "small_near_root = 30\n",
    "small_stop_nodes = [47,20]\n",
    "\n",
    "large_nodes = small_nodes + [5,6,21,22,33,34,49,50,57,58] + [9,10,23,24,37,38,51,52,61,62] # 30\n",
    "large_nodes_root = 33\n",
    "large_near_root = 34\n",
    "large_stop_nodes = [47,20] + [22,49] + [24,51]\n",
    "\n",
    "\n",
    "if use_large:\n",
    "    all_nodes = \"+\".join([str(x) for x in large_nodes])\n",
    "    if add_or_remove:\n",
    "        temp = [x for x in large_nodes if x not in large_stop_nodes]\n",
    "        nodes = \"+\".join([str(x) for x in temp])\n",
    "    else:\n",
    "        nodes = all_nodes\n",
    "    root = large_nodes_root\n",
    "    near_root = large_near_root\n",
    "    stop_nodes = \"+\".join([str(x) for x in large_stop_nodes])\n",
    "else:\n",
    "    all_nodes = \"+\".join([str(x) for x in small_nodes])\n",
    "    if add_or_remove:\n",
    "        temp = [x for x in small_nodes if x not in small_stop_nodes]\n",
    "        nodes = \"+\".join([str(x) for x in temp])\n",
    "    else:\n",
    "        nodes = all_nodes\n",
    "    root = small_nodes_root\n",
    "    near_root = small_near_root\n",
    "    stop_nodes = \"+\".join([str(x) for x in small_stop_nodes])\n",
    "\n",
    "print(all_nodes)\n",
    "print(nodes)\n",
    "print(stop_nodes)"
   ]
  },
  {
   "cell_type": "code",
   "execution_count": 21,
   "metadata": {},
   "outputs": [],
   "source": [
    "file_name = 'exp_log'\n",
    "def get_log_path(file_name=\"x\", format=\"txt\", folder_only=False):\n",
    "    if folder_only:\n",
    "        return user_data_dir('openvisualizer')\n",
    "    else:\n",
    "        return os.path.join(user_data_dir('openvisualizer'), file_name+\".\"+format)\n",
    "\n",
    "def run_command(cmd):\n",
    "    print(cmd)\n",
    "    val = !{cmd}\n",
    "    val = [str(i).strip() for i in val]\n",
    "    result = json.loads(\"\".join(val))\n",
    "    return result"
   ]
  },
  {
   "attachments": {},
   "cell_type": "markdown",
   "metadata": {},
   "source": [
    "### Submit experimet"
   ]
  },
  {
   "cell_type": "code",
   "execution_count": 18,
   "metadata": {},
   "outputs": [
    {
     "name": "stdout",
     "output_type": "stream",
     "text": [
      "iotlab-experiment submit -n test_20230111-03-18-16 -d 120 -l strasbourg,m3,1+2+19+20+29+30+47+48+53+54+5+6+21+22+33+34+49+50+57+58+9+10+23+24+37+38+51+52+61+62,,energym3\n"
     ]
    }
   ],
   "source": [
    "# Submit experiment\n",
    "cmd = f\"iotlab-experiment submit -n test_{timestamp} -d {int(duration_h*60)} -l {site},m3,{all_nodes},,{energy_profile}\"\n",
    "print(cmd)"
   ]
  },
  {
   "cell_type": "code",
   "execution_count": 4,
   "metadata": {},
   "outputs": [
    {
     "data": {
      "text/plain": [
       "352894"
      ]
     },
     "execution_count": 4,
     "metadata": {},
     "output_type": "execute_result"
    }
   ],
   "source": [
    "result = run_command(cmd)\n",
    "exp_id = result[\"id\"]\n",
    "exp_id"
   ]
  },
  {
   "cell_type": "code",
   "execution_count": 5,
   "metadata": {},
   "outputs": [
    {
     "name": "stdout",
     "output_type": "stream",
     "text": [
      "Waiting that experiment 352894 gets in state Running\n",
      "\"Running\"\n"
     ]
    }
   ],
   "source": [
    "!iotlab-experiment wait"
   ]
  },
  {
   "cell_type": "code",
   "execution_count": 19,
   "metadata": {},
   "outputs": [
    {
     "data": {
      "text/plain": [
       "'47+20+22+49+24+51'"
      ]
     },
     "execution_count": 19,
     "metadata": {},
     "output_type": "execute_result"
    }
   ],
   "source": [
    "stop_nodes"
   ]
  },
  {
   "cell_type": "code",
   "execution_count": 6,
   "metadata": {},
   "outputs": [
    {
     "data": {
      "text/plain": [
       "['m3-1.strasbourg.iot-lab.info',\n",
       " 'm3-2.strasbourg.iot-lab.info',\n",
       " 'm3-5.strasbourg.iot-lab.info']"
      ]
     },
     "execution_count": 6,
     "metadata": {},
     "output_type": "execute_result"
    }
   ],
   "source": [
    "cmd = f'iotlab-node --flash {app_path} -l {site},m3,{all_nodes}'\n",
    "run_command(cmd)\n",
    "\n",
    "cmd = f'iotlab-node --reset -l {site},m3,{all_nodes}'\n",
    "run_command(cmd)"
   ]
  },
  {
   "attachments": {},
   "cell_type": "markdown",
   "metadata": {},
   "source": [
    "### Simulate Add\n",
    "    # Stop\n",
    "    # after half time\n",
    "    # Start\n",
    "\n",
    "### Simulate Remove\n",
    "    # afer half time\n",
    "    # Stop\n"
   ]
  },
  {
   "cell_type": "code",
   "execution_count": null,
   "metadata": {},
   "outputs": [],
   "source": [
    "# Stop\n",
    "if add_or_remove:\n",
    "    cmd = f\"iotlab-node --stop -l {site},m3,{stop_nodes}\"\n",
    "    run_command(cmd)"
   ]
  },
  {
   "cell_type": "code",
   "execution_count": null,
   "metadata": {},
   "outputs": [],
   "source": [
    "# Start\n",
    "if add_or_remove:\n",
    "    cmd = f\"iotlab-node --start -l {site},m3,{stop_nodes}\"\n",
    "    run_command(cmd)"
   ]
  },
  {
   "cell_type": "code",
   "execution_count": 7,
   "metadata": {},
   "outputs": [
    {
     "name": "stdout",
     "output_type": "stream",
     "text": [
      "openv-server --iotlab-motes m3-1.strasbourg.iot-lab.info m3-2.strasbourg.iot-lab.info m3-5.strasbourg.iot-lab.info m3-6.strasbourg.iot-lab.info m3-9.strasbourg.iot-lab.info m3-10.strasbourg.iot-lab.info m3-19.strasbourg.iot-lab.info m3-20.strasbourg.iot-lab.info m3-21.strasbourg.iot-lab.info m3-22.strasbourg.iot-lab.info m3-23.strasbourg.iot-lab.info m3-24.strasbourg.iot-lab.info m3-29.strasbourg.iot-lab.info m3-30.strasbourg.iot-lab.info m3-33.strasbourg.iot-lab.info m3-34.strasbourg.iot-lab.info m3-37.strasbourg.iot-lab.info m3-38.strasbourg.iot-lab.info m3-47.strasbourg.iot-lab.info m3-48.strasbourg.iot-lab.info m3-49.strasbourg.iot-lab.info m3-50.strasbourg.iot-lab.info m3-51.strasbourg.iot-lab.info m3-52.strasbourg.iot-lab.info m3-53.strasbourg.iot-lab.info m3-54.strasbourg.iot-lab.info m3-57.strasbourg.iot-lab.info m3-58.strasbourg.iot-lab.info m3-61.strasbourg.iot-lab.info m3-62.strasbourg.iot-lab.info --root m3-33.strasbourg.iot-lab.info\n"
     ]
    }
   ],
   "source": [
    "node_site_list = [f'm3-{id_}.{site}.iot-lab.info' for id_ in nodes]\n",
    "cmd = f\"openv-server --iotlab-motes {' '.join(node_site_list)}\"\n",
    "print(cmd)"
   ]
  },
  {
   "cell_type": "code",
   "execution_count": 63,
   "metadata": {},
   "outputs": [
    {
     "name": "stdout",
     "output_type": "stream",
     "text": [
      "openv-client root m3-36.strasbourg.iot-lab.info\n"
     ]
    }
   ],
   "source": [
    "root_site = f\"m3-{root}.{site}.iot-lab.info\"\n",
    "cmd = f\"openv-client root {root_site}\"\n",
    "print(cmd)"
   ]
  },
  {
   "cell_type": "code",
   "execution_count": 40,
   "metadata": {},
   "outputs": [
    {
     "name": "stdout",
     "output_type": "stream",
     "text": [
      "scp -r -i ~/.ssh/id_rsa dfawwaz@strasbourg.iot-lab.info::/senslab/users/dfawwaz/.iot-lab/352894/consumption/ .\n"
     ]
    }
   ],
   "source": [
    "# download oml energy\n",
    "exp_id = 352894\n",
    "oml_path = get_log_path(folder_only=True)\n",
    "cmd = f\"scp -r -i ~/.ssh/id_rsa dfawwaz@{site}.iot-lab.info:/senslab/users/dfawwaz/.iot-lab/{exp_id}/consumption/ .\"\n",
    "print(cmd)"
   ]
  },
  {
   "cell_type": "code",
   "execution_count": 43,
   "metadata": {},
   "outputs": [
    {
     "name": "stdout",
     "output_type": "stream",
     "text": [
      "plot_oml_consum -p -i consumption/m3-34.oml\n"
     ]
    }
   ],
   "source": [
    "cmd = f\"plot_oml_consum -p -i consumption/m3-{near_root}.oml\"\n",
    "print(cmd)"
   ]
  }
 ],
 "metadata": {
  "kernelspec": {
   "display_name": "Python 3",
   "language": "python",
   "name": "python3"
  },
  "language_info": {
   "codemirror_mode": {
    "name": "ipython",
    "version": 3
   },
   "file_extension": ".py",
   "mimetype": "text/x-python",
   "name": "python",
   "nbconvert_exporter": "python",
   "pygments_lexer": "ipython3",
   "version": "3.7.15"
  },
  "orig_nbformat": 4,
  "vscode": {
   "interpreter": {
    "hash": "e774977668b7c0ae8309835a5187aa7fbf7669e7d0bb59755bc63e573643edcd"
   }
  }
 },
 "nbformat": 4,
 "nbformat_minor": 2
}
