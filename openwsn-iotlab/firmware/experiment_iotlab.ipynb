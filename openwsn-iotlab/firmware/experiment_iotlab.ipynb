{
 "cells": [
  {
   "cell_type": "code",
   "execution_count": 7,
   "metadata": {},
   "outputs": [],
   "source": [
    "import json\n",
    "import os\n",
    "from datetime import datetime\n",
    "from appdirs import user_data_dir\n",
    "\n",
    "\n",
    "timestamp = datetime.now().strftime(\"%Y%m%d-%H-%M-%S\")\n",
    "duration_h = 2\n",
    "algo = 'ori'\n",
    "\n",
    "use_large = False\n",
    "\n",
    "app = f\"03oos_openwsn_prog_{algo}\"\n",
    "site = \"lille\"\n",
    "energy_profile = \"energym3\"\n",
    "\n",
    "small_nodes = \"238-242+225-229\" # 5*2 = 10\n",
    "small_nodes_root = \"240\"\n",
    "small_near_root = \"227\"\n",
    "\n",
    "large_nodes = \"250-255+238-243+225-230+205-210+191-196\" # 6*5 = 30 # 169-174+152-157\n",
    "large_nodes_root = \"207\"\n",
    "large_near_root = \"208\"\n",
    "\n",
    "if use_large:\n",
    "    nodes = large_nodes\n",
    "    root = large_nodes_root\n",
    "    near_root = large_near_root\n",
    "else:\n",
    "    nodes = small_nodes\n",
    "    root = small_nodes_root\n",
    "    near_root = small_near_root"
   ]
  },
  {
   "cell_type": "code",
   "execution_count": 8,
   "metadata": {},
   "outputs": [],
   "source": [
    "file_name = 'exp_log'\n",
    "def get_log_path(file_name=\"x\", format=\"txt\", folder_only=False):\n",
    "    if folder_only:\n",
    "        return user_data_dir('openvisualizer')\n",
    "    else:\n",
    "        return os.path.join(user_data_dir('openvisualizer'), file_name+\".\"+format)\n",
    "\n",
    "def run_command(cmd):\n",
    "    val = !{cmd}\n",
    "    val = [str(i).strip() for i in val]\n",
    "    result = json.loads(\"\".join(val))\n",
    "    return result"
   ]
  },
  {
   "attachments": {},
   "cell_type": "markdown",
   "metadata": {},
   "source": [
    "### Submit experimet"
   ]
  },
  {
   "cell_type": "code",
   "execution_count": 18,
   "metadata": {},
   "outputs": [
    {
     "name": "stdout",
     "output_type": "stream",
     "text": [
      "iotlab-experiment submit -n test_20230110-04-56-03 -d 120 -l lille,m3,238-242+225-229,ori,energym3\n"
     ]
    }
   ],
   "source": [
    "# Submit experiment\n",
    "cmd = f\"iotlab-experiment submit -n test_{timestamp} -d {int(duration_h*60)} -l {site},m3,{nodes},{algo},{energy_profile}\"\n",
    "\n",
    "print(cmd)"
   ]
  },
  {
   "cell_type": "code",
   "execution_count": 20,
   "metadata": {},
   "outputs": [
    {
     "name": "stdout",
     "output_type": "stream",
     "text": [
      "{\n",
      "    \"id\": 352756\n",
      "}\n"
     ]
    }
   ],
   "source": [
    "!iotlab-experiment submit -n test_20230110-04-56-03 -d 120 -l lille,m3,238-242+225-229,ori,energym3"
   ]
  },
  {
   "cell_type": "code",
   "execution_count": 21,
   "metadata": {},
   "outputs": [],
   "source": [
    "result = run_command(cmd)\n",
    "exp_id = result[\"id\"]\n",
    "\n",
    "cmd = f\"iotlab-experiment wait -i {exp_id}\"\n",
    "# run_command(cmd)\n"
   ]
  },
  {
   "cell_type": "code",
   "execution_count": 23,
   "metadata": {},
   "outputs": [
    {
     "data": {
      "text/plain": [
       "['m3-238.lille.iot-lab.info',\n",
       " 'm3-239.lille.iot-lab.info',\n",
       " 'm3-240.lille.iot-lab.info',\n",
       " 'm3-241.lille.iot-lab.info',\n",
       " 'm3-242.lille.iot-lab.info',\n",
       " 'm3-225.lille.iot-lab.info',\n",
       " 'm3-226.lille.iot-lab.info',\n",
       " 'm3-227.lille.iot-lab.info',\n",
       " 'm3-228.lille.iot-lab.info',\n",
       " 'm3-229.lille.iot-lab.info']"
      ]
     },
     "execution_count": 23,
     "metadata": {},
     "output_type": "execute_result"
    }
   ],
   "source": [
    "node_list = []\n",
    "for group in nodes.split(\"+\"):\n",
    "    start, end = group.split(\"-\")\n",
    "    start = int(start)\n",
    "    end = int(end)\n",
    "    gr_ = list(range(start,end+1))\n",
    "    node_list.extend(gr_)\n",
    "\n",
    "node_id_list = [f\"m3-{n}\" for n in node_list]\n",
    "node_site_list = [f\"{n}.{site}.iot-lab.info\" for n in node_id_list]\n",
    "node_site_list"
   ]
  },
  {
   "cell_type": "code",
   "execution_count": 26,
   "metadata": {},
   "outputs": [
    {
     "data": {
      "text/plain": [
       "'openv-server --iotlab-motes m3-238.lille.iot-lab.info m3-239.lille.iot-lab.info m3-240.lille.iot-lab.info m3-241.lille.iot-lab.info m3-242.lille.iot-lab.info m3-225.lille.iot-lab.info m3-226.lille.iot-lab.info m3-227.lille.iot-lab.info m3-228.lille.iot-lab.info m3-229.lille.iot-lab.info'"
      ]
     },
     "execution_count": 26,
     "metadata": {},
     "output_type": "execute_result"
    }
   ],
   "source": [
    "cmd = f\"openv-server --iotlab-motes {' '.join(node_site_list)}\"\n",
    "cmd"
   ]
  },
  {
   "cell_type": "code",
   "execution_count": 27,
   "metadata": {},
   "outputs": [
    {
     "data": {
      "text/plain": [
       "'openv-client root m3-240.lille.iot-lab.info'"
      ]
     },
     "execution_count": 27,
     "metadata": {},
     "output_type": "execute_result"
    }
   ],
   "source": [
    "root_site = f\"m3-{root}.{site}.iot-lab.info\"\n",
    "cmd = f\"openv-client root {root_site}\"\n",
    "cmd"
   ]
  },
  {
   "cell_type": "code",
   "execution_count": 24,
   "metadata": {},
   "outputs": [],
   "source": [
    "\n",
    "cmd = \"openv-client view web\""
   ]
  },
  {
   "cell_type": "code",
   "execution_count": null,
   "metadata": {},
   "outputs": [],
   "source": [
    "# download oml energy\n",
    "oml_path = get_log_path(folder_only=True)\n",
    "cmd = f\"pscp -r -i ~/.ssh/id_rsa.ppk dfawwaz@saclay.iot-lab.info:.iot-lab/{exp_id}/consumption/ {oml_path}/consumption/\"\n",
    "cmd = f\"plot_oml_consum -p -i {oml_path}/consumption/m3-{near_root}.oml\"\n"
   ]
  },
  {
   "attachments": {},
   "cell_type": "markdown",
   "metadata": {},
   "source": [
    "### Add/Remove mote"
   ]
  },
  {
   "cell_type": "code",
   "execution_count": null,
   "metadata": {},
   "outputs": [],
   "source": [
    "# To remove: Stop and clear flash\n",
    "\n",
    "# To add: Stop and clear flash, then flash with oos and start\n",
    "\n",
    "last_node = node_list[-1]\n",
    "cmd = f\"iotlab-node --stop -l {site},m3,{last_node}\"\n",
    "cmd = f\"iotlab-node --start -l {site},m3,{last_node}\""
   ]
  }
 ],
 "metadata": {
  "kernelspec": {
   "display_name": "Python 3",
   "language": "python",
   "name": "python3"
  },
  "language_info": {
   "codemirror_mode": {
    "name": "ipython",
    "version": 3
   },
   "file_extension": ".py",
   "mimetype": "text/x-python",
   "name": "python",
   "nbconvert_exporter": "python",
   "pygments_lexer": "ipython3",
   "version": "3.7.15"
  },
  "orig_nbformat": 4,
  "vscode": {
   "interpreter": {
    "hash": "e774977668b7c0ae8309835a5187aa7fbf7669e7d0bb59755bc63e573643edcd"
   }
  }
 },
 "nbformat": 4,
 "nbformat_minor": 2
}
