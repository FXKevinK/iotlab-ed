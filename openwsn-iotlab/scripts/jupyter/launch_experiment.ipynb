{
 "cells": [
  {
   "cell_type": "code",
   "execution_count": 1,
   "metadata": {},
   "outputs": [],
   "source": [
    "# systems tools\n",
    "import os\n",
    "import shutil\n",
    "import sys\n",
    "import random\n",
    "import time\n",
    "import sys\n",
    "import signal\n",
    "\n",
    "# multiprocess\n",
    "import threading\n",
    "#import psutil\n",
    "\n",
    "#format\n",
    "import string\n",
    "import json"
   ]
  },
  {
   "cell_type": "code",
   "execution_count": 3,
   "metadata": {},
   "outputs": [],
   "source": [
    "#configuration for the experimenal setup (what stays unchanged)\n",
    "def configuration_set():\n",
    "    config = {}\n",
    "    #paths\n",
    "    config['path_initial'] = os.getcwd()\n",
    "    print (\"Inital path: {0}\".format(config['path_initial']))    \n",
    "    config['path_results'] = config['path_initial']+ \"/logs\"\n",
    "        \n",
    "    \n",
    "    # Metadata for experiments\n",
    "    config['user']=\"theoleyr\"\n",
    "    config['exp_duration']=180        # for the iot lab reservation (collection of runs), in minutes\n",
    "    #config['subexp_duration']        # no timeout\n",
    "    config['exp_resume']=True\n",
    "    config['exp_name']=\"owsnccajup\"\n",
    "\n",
    "    # Parameters of the experiment\n",
    "    config['board']=\"iot-lab_M3\"\n",
    "    config['toolchain']=\"armgcc\"\n",
    "    config['archi']=\"m3\"\n",
    "    config['site']=\"strasbourg\"    \n",
    "\n",
    "    #Parameters for this set of experiments\n",
    "    # list of motes\n",
    "    config['nodes_list']=[ 60 , 64 ]\n",
    "    config['dagroots_list']=[ 43 ]\n",
    "\n",
    "    #parameters for the code\n",
    "    config['badmaxrssi'] = 100\n",
    "    config['goodminrssi'] = 100\n",
    "    config['lowestrankfirst'] = 1\n",
    "    config['anycast'] = 1\n",
    "    \n",
    "    #openvisualizer configuration (output + 2 inputs)\n",
    "    config['conf_file']= config['path_initial'] + \"/logs/logging.conf\"\n",
    "    config['conf_file_start']= config['path_initial'] + \"/../loggers/logging_start.conf\"\n",
    "    config['conf_file_end']= config['path_initial'] + \"/../loggers/logging_end.conf\"\n",
    "    \n",
    "    # openvisualizer directory\n",
    "    config['code_sw_src'] = config['path_initial'] + \"/../../openvisualizer/\"\n",
    "    if (os.path.exists(config['code_sw_src']) == False):\n",
    "        print(\"{0} does not exist\".format(config['code_sw_src']))\n",
    "        exit(-4)\n",
    "    config['code_sw_gitversion']=\"e039a05\"\n",
    "\n",
    "    # firmware part\n",
    "    config['code_fw_src']= config['path_initial'] + \"/../../openwsn-fw/\"\n",
    "    if (os.path.exists(config['code_fw_src']) == False):\n",
    "        print(\"{0} does not exist\".format(config['code_fw_src']))\n",
    "        exit(-4)\n",
    "    config['code_fw_gitversion']=\"515eafa7\"\n",
    "    config['code_fw_bin']=config['code_fw_src']+\"build/iot-lab_M3_armgcc/projects/common/03oos_openwsn_prog\"\n",
    "    \n",
    "    #Only in simulation mode!\n",
    "    if (config['board'] == \"python\"):\n",
    "        config['nbnodes']=\"5\"\n",
    "        config['topology']=\"---load-topology \" + config['path_initial'] + \"topologies/topology-3nodes.json\"\n",
    "\n",
    "    return(config)"
   ]
  },
  {
   "cell_type": "code",
   "execution_count": 4,
   "metadata": {},
   "outputs": [
    {
     "name": "stdout",
     "output_type": "stream",
     "text": [
      "Inital path: /home/inslab/Documents/openwsn-iotlab/scripts/jupyter\n"
     ]
    }
   ],
   "source": [
    "config = configuration_set()\n",
    "\n",
    "#custom libraries\n",
    "sys.path.insert(0, config['path_initial']+ \"/../\")\n",
    "import iotlabowsn"
   ]
  },
  {
   "cell_type": "code",
   "execution_count": 4,
   "metadata": {},
   "outputs": [
    {
     "ename": "",
     "evalue": "",
     "output_type": "error",
     "traceback": [
      "\u001b[1;31mCanceled future for execute_request message before replies were done"
     ]
    },
    {
     "ename": "",
     "evalue": "",
     "output_type": "error",
     "traceback": [
      "\u001b[1;31mThe Kernel crashed while executing code in the the current cell or a previous cell. Please review the code in the cell(s) to identify a possible cause of the failure. Click <a href='https://aka.ms/vscodeJupyterKernelCrash'>here</a> for more info. View Jupyter <a href='command:jupyter.viewOutput'>log</a> for further details."
     ]
    }
   ],
   "source": [
    "# killall the children (openweb + openvisualizer)\n",
    "\n",
    "iotlabowsn.run_command(\"sudo killall python\")\n",
    "iotlabowsn.run_command(\"sudo killall /bin/sh\")\n",
    "\n",
    "print(\"Clean start: all the OV and openweb server have been killed\")"
   ]
  },
  {
   "cell_type": "code",
   "execution_count": 5,
   "metadata": {},
   "outputs": [],
   "source": [
    "#prints the headers of a section\n",
    "def print_header(msg):\n",
    "    print(\"\\n\\n---------------------------------------------\")\n",
    "    print(\"     \" + msg)\n",
    "    print(\"---------------------------------------------\\n\\n\")\n"
   ]
  },
  {
   "cell_type": "code",
   "execution_count": 6,
   "metadata": {},
   "outputs": [
    {
     "name": "stdout",
     "output_type": "stream",
     "text": [
      "\n",
      "\n",
      "---------------------------------------------\n",
      "     Initialization\n",
      "---------------------------------------------\n",
      "\n",
      "\n",
      "Haha /home/inslab/Documents/openwsn-iotlab/scripts/jupyter/../../openvisualizer/\n"
     ]
    }
   ],
   "source": [
    "# ----- INIT\n",
    "\n",
    "print_header(\"Initialization\")\n",
    "print(\"Haha\", config['code_sw_src'])\n",
    "#config = configuration_set()\n",
    "# iotlabowsn.openvisualizer_install(config)"
   ]
  },
  {
   "cell_type": "code",
   "execution_count": 10,
   "metadata": {},
   "outputs": [
    {
     "name": "stdout",
     "output_type": "stream",
     "text": [
      "Collecting iotlabcli\n",
      "  Downloading iotlabcli-3.3.0.tar.gz (78 kB)\n",
      "\u001b[2K     \u001b[90m━━━━━━━━━━━━━━━━━━━━━━━━━━━━━━━━━━━━━━━━\u001b[0m \u001b[32m78.2/78.2 KB\u001b[0m \u001b[31m4.9 MB/s\u001b[0m eta \u001b[36m0:00:00\u001b[0m\n",
      "\u001b[?25h  Preparing metadata (setup.py) ... \u001b[?25ldone\n",
      "\u001b[?25hCollecting requests>2.4.2\n",
      "  Downloading requests-2.28.1-py3-none-any.whl (62 kB)\n",
      "\u001b[2K     \u001b[90m━━━━━━━━━━━━━━━━━━━━━━━━━━━━━━━━━━━━━━━━\u001b[0m \u001b[32m62.8/62.8 KB\u001b[0m \u001b[31m12.3 MB/s\u001b[0m eta \u001b[36m0:00:00\u001b[0m\n",
      "\u001b[?25hCollecting jmespath\n",
      "  Downloading jmespath-1.0.1-py3-none-any.whl (20 kB)\n",
      "Collecting charset-normalizer<3,>=2\n",
      "  Downloading charset_normalizer-2.1.1-py3-none-any.whl (39 kB)\n",
      "Requirement already satisfied: certifi>=2017.4.17 in /home/inslab/anaconda3/envs/p37/lib/python3.7/site-packages (from requests>2.4.2->iotlabcli) (2022.9.24)\n",
      "Collecting urllib3<1.27,>=1.21.1\n",
      "  Downloading urllib3-1.26.12-py2.py3-none-any.whl (140 kB)\n",
      "\u001b[2K     \u001b[90m━━━━━━━━━━━━━━━━━━━━━━━━━━━━━━━━━━━━━━\u001b[0m \u001b[32m140.4/140.4 KB\u001b[0m \u001b[31m10.0 MB/s\u001b[0m eta \u001b[36m0:00:00\u001b[0m\n",
      "\u001b[?25hCollecting idna<4,>=2.5\n",
      "  Downloading idna-3.4-py3-none-any.whl (61 kB)\n",
      "\u001b[2K     \u001b[90m━━━━━━━━━━━━━━━━━━━━━━━━━━━━━━━━━━━━━━━━\u001b[0m \u001b[32m61.5/61.5 KB\u001b[0m \u001b[31m13.8 MB/s\u001b[0m eta \u001b[36m0:00:00\u001b[0m\n",
      "\u001b[?25hBuilding wheels for collected packages: iotlabcli\n",
      "  Building wheel for iotlabcli (setup.py) ... \u001b[?25ldone\n",
      "\u001b[?25h  Created wheel for iotlabcli: filename=iotlabcli-3.3.0-py3-none-any.whl size=109888 sha256=5a745d12f91aee236093029cf77cb3a221869861d757de145b515c5a4313dcf3\n",
      "  Stored in directory: /home/inslab/.cache/pip/wheels/ed/e3/50/8640afae7232d2133adede267c37cbd983849592d4afeb5fc4\n",
      "Successfully built iotlabcli\n",
      "Installing collected packages: urllib3, jmespath, idna, charset-normalizer, requests, iotlabcli\n",
      "Successfully installed charset-normalizer-2.1.1 idna-3.4 iotlabcli-3.3.0 jmespath-1.0.1 requests-2.28.1 urllib3-1.26.12\n",
      "\u001b[33mWARNING: You are using pip version 22.0.3; however, version 22.3.1 is available.\n",
      "You should consider upgrading via the '/home/inslab/anaconda3/envs/p37/bin/python -m pip install --upgrade pip' command.\u001b[0m\u001b[33m\n",
      "\u001b[0m"
     ]
    }
   ],
   "source": [
    "!pip install --user iotlabcli"
   ]
  },
  {
   "cell_type": "code",
   "execution_count": 11,
   "metadata": {},
   "outputs": [
    {
     "name": "stdout",
     "output_type": "stream",
     "text": [
      "Password: \n",
      "Stopped.\n"
     ]
    }
   ],
   "source": [
    "!iotlab-auth -u dfawwaz"
   ]
  },
  {
   "cell_type": "code",
   "execution_count": 8,
   "metadata": {},
   "outputs": [
    {
     "name": "stdout",
     "output_type": "stream",
     "text": [
      "\n",
      "\n",
      "---------------------------------------------\n",
      "     Reservation (experiment)\n",
      "---------------------------------------------\n",
      "\n",
      "\n",
      "No running experiment\n",
      "iotlab-experiment submit  -n owsnccajup -d 180 -l strasbourg,m3,43+60+64\n",
      "{\n",
      "    \"id\": 344733\n",
      "}\n",
      "\n",
      "{'id': 344733}\n"
     ]
    },
    {
     "ename": "AttributeError",
     "evalue": "module 'iotlabowsn' has no attribute 'wait_running'",
     "output_type": "error",
     "traceback": [
      "\u001b[0;31m---------------------------------------------------------------------------\u001b[0m",
      "\u001b[0;31mAttributeError\u001b[0m                            Traceback (most recent call last)",
      "\u001b[0;32m/tmp/ipykernel_21476/2535542480.py\u001b[0m in \u001b[0;36m<module>\u001b[0;34m\u001b[0m\n\u001b[1;32m      7\u001b[0m \u001b[0;32melse\u001b[0m\u001b[0;34m:\u001b[0m\u001b[0;34m\u001b[0m\u001b[0;34m\u001b[0m\u001b[0m\n\u001b[1;32m      8\u001b[0m     \u001b[0mexp_id\u001b[0m \u001b[0;34m=\u001b[0m \u001b[0miotlabowsn\u001b[0m\u001b[0;34m.\u001b[0m\u001b[0mexp_start\u001b[0m\u001b[0;34m(\u001b[0m\u001b[0mconfig\u001b[0m\u001b[0;34m)\u001b[0m\u001b[0;34m\u001b[0m\u001b[0;34m\u001b[0m\u001b[0m\n\u001b[0;32m----> 9\u001b[0;31m \u001b[0miotlabowsn\u001b[0m\u001b[0;34m.\u001b[0m\u001b[0mwait_running\u001b[0m\u001b[0;34m(\u001b[0m\u001b[0mexp_id\u001b[0m\u001b[0;34m)\u001b[0m\u001b[0;34m\u001b[0m\u001b[0;34m\u001b[0m\u001b[0m\n\u001b[0m",
      "\u001b[0;31mAttributeError\u001b[0m: module 'iotlabowsn' has no attribute 'wait_running'"
     ]
    }
   ],
   "source": [
    "# ---- RESERVATION /RESUME EXPERIMENT ----\n",
    "print_header(\"Reservation (experiment)\")\n",
    "if ( config['exp_resume'] == True):\n",
    "    exp_id = iotlabowsn.get_running_id(config);\n",
    "if exp_id is not None:\n",
    "    print(\"Resume the experiment id {0}\".format(exp_id))\n",
    "else:\n",
    "    exp_id = iotlabowsn.exp_start(config)\n",
    "iotlabowsn.exp_wait_running(exp_id)\n"
   ]
  },
  {
   "cell_type": "code",
   "execution_count": 9,
   "metadata": {},
   "outputs": [
    {
     "ename": "KeyboardInterrupt",
     "evalue": "",
     "output_type": "error",
     "traceback": [
      "\u001b[0;31m---------------------------------------------------------------------------\u001b[0m",
      "\u001b[0;31mKeyboardInterrupt\u001b[0m                         Traceback (most recent call last)",
      "\u001b[0;32m/tmp/ipykernel_21476/2792843751.py\u001b[0m in \u001b[0;36m<module>\u001b[0;34m\u001b[0m\n\u001b[0;32m----> 1\u001b[0;31m \u001b[0miotlabowsn\u001b[0m\u001b[0;34m.\u001b[0m\u001b[0mexp_wait_running\u001b[0m\u001b[0;34m(\u001b[0m\u001b[0mexp_id\u001b[0m\u001b[0;34m)\u001b[0m\u001b[0;34m\u001b[0m\u001b[0;34m\u001b[0m\u001b[0m\n\u001b[0m",
      "\u001b[0;32m~/Documents/openwsn-iotlab/scripts/jupyter/../iotlabowsn.py\u001b[0m in \u001b[0;36mexp_wait_running\u001b[0;34m(exp_id)\u001b[0m\n\u001b[1;32m    279\u001b[0m \u001b[0;32mdef\u001b[0m \u001b[0mexp_wait_running\u001b[0m\u001b[0;34m(\u001b[0m\u001b[0mexp_id\u001b[0m\u001b[0;34m)\u001b[0m\u001b[0;34m:\u001b[0m\u001b[0;34m\u001b[0m\u001b[0;34m\u001b[0m\u001b[0m\n\u001b[1;32m    280\u001b[0m     \u001b[0mcmd\u001b[0m\u001b[0;34m=\u001b[0m\u001b[0;34m\"iotlab-experiment wait -i \"\u001b[0m\u001b[0;34m+\u001b[0m \u001b[0mstr\u001b[0m\u001b[0;34m(\u001b[0m\u001b[0mexp_id\u001b[0m\u001b[0;34m)\u001b[0m\u001b[0;34m\u001b[0m\u001b[0;34m\u001b[0m\u001b[0m\n\u001b[0;32m--> 281\u001b[0;31m     \u001b[0mprocess\u001b[0m\u001b[0;34m,\u001b[0m\u001b[0moutput\u001b[0m\u001b[0;34m,\u001b[0m\u001b[0merr\u001b[0m \u001b[0;34m=\u001b[0m \u001b[0mrun_command\u001b[0m\u001b[0;34m(\u001b[0m\u001b[0mcmd\u001b[0m\u001b[0;34m=\u001b[0m\u001b[0mcmd\u001b[0m\u001b[0;34m)\u001b[0m\u001b[0;34m\u001b[0m\u001b[0;34m\u001b[0m\u001b[0m\n\u001b[0m\u001b[1;32m    282\u001b[0m     \u001b[0mprint\u001b[0m\u001b[0;34m(\u001b[0m\u001b[0moutput\u001b[0m\u001b[0;34m)\u001b[0m\u001b[0;34m\u001b[0m\u001b[0;34m\u001b[0m\u001b[0m\n\u001b[1;32m    283\u001b[0m \u001b[0;34m\u001b[0m\u001b[0m\n",
      "\u001b[0;32m~/Documents/openwsn-iotlab/scripts/jupyter/../iotlabowsn.py\u001b[0m in \u001b[0;36mrun_command\u001b[0;34m(cmd, path, timeout)\u001b[0m\n\u001b[1;32m    115\u001b[0m \u001b[0;32mdef\u001b[0m \u001b[0mrun_command\u001b[0m\u001b[0;34m(\u001b[0m\u001b[0mcmd\u001b[0m\u001b[0;34m,\u001b[0m \u001b[0mpath\u001b[0m\u001b[0;34m=\u001b[0m\u001b[0;32mNone\u001b[0m\u001b[0;34m,\u001b[0m \u001b[0mtimeout\u001b[0m\u001b[0;34m=\u001b[0m\u001b[0;32mNone\u001b[0m\u001b[0;34m)\u001b[0m\u001b[0;34m:\u001b[0m\u001b[0;34m\u001b[0m\u001b[0;34m\u001b[0m\u001b[0m\n\u001b[1;32m    116\u001b[0m \u001b[0;34m\u001b[0m\u001b[0m\n\u001b[0;32m--> 117\u001b[0;31m     \u001b[0mprocess\u001b[0m \u001b[0;34m=\u001b[0m \u001b[0msubprocess\u001b[0m\u001b[0;34m.\u001b[0m\u001b[0mrun\u001b[0m\u001b[0;34m(\u001b[0m\u001b[0mcmd\u001b[0m\u001b[0;34m,\u001b[0m \u001b[0mshell\u001b[0m\u001b[0;34m=\u001b[0m\u001b[0;32mTrue\u001b[0m\u001b[0;34m,\u001b[0m \u001b[0mcwd\u001b[0m\u001b[0;34m=\u001b[0m\u001b[0mpath\u001b[0m\u001b[0;34m,\u001b[0m \u001b[0mclose_fds\u001b[0m\u001b[0;34m=\u001b[0m\u001b[0;32mTrue\u001b[0m\u001b[0;34m,\u001b[0m \u001b[0mtimeout\u001b[0m\u001b[0;34m=\u001b[0m\u001b[0mtimeout\u001b[0m\u001b[0;34m,\u001b[0m \u001b[0mcapture_output\u001b[0m\u001b[0;34m=\u001b[0m\u001b[0;32mTrue\u001b[0m\u001b[0;34m,\u001b[0m \u001b[0mtext\u001b[0m\u001b[0;34m=\u001b[0m\u001b[0;32mTrue\u001b[0m\u001b[0;34m)\u001b[0m\u001b[0;34m\u001b[0m\u001b[0;34m\u001b[0m\u001b[0m\n\u001b[0m\u001b[1;32m    118\u001b[0m \u001b[0;34m\u001b[0m\u001b[0m\n\u001b[1;32m    119\u001b[0m     \u001b[0mout\u001b[0m \u001b[0;34m=\u001b[0m \u001b[0mprocess\u001b[0m\u001b[0;34m.\u001b[0m\u001b[0mstdout\u001b[0m\u001b[0;34m\u001b[0m\u001b[0;34m\u001b[0m\u001b[0m\n",
      "\u001b[0;32m~/anaconda3/envs/p37/lib/python3.7/subprocess.py\u001b[0m in \u001b[0;36mrun\u001b[0;34m(input, capture_output, timeout, check, *popenargs, **kwargs)\u001b[0m\n\u001b[1;32m    488\u001b[0m     \u001b[0;32mwith\u001b[0m \u001b[0mPopen\u001b[0m\u001b[0;34m(\u001b[0m\u001b[0;34m*\u001b[0m\u001b[0mpopenargs\u001b[0m\u001b[0;34m,\u001b[0m \u001b[0;34m**\u001b[0m\u001b[0mkwargs\u001b[0m\u001b[0;34m)\u001b[0m \u001b[0;32mas\u001b[0m \u001b[0mprocess\u001b[0m\u001b[0;34m:\u001b[0m\u001b[0;34m\u001b[0m\u001b[0;34m\u001b[0m\u001b[0m\n\u001b[1;32m    489\u001b[0m         \u001b[0;32mtry\u001b[0m\u001b[0;34m:\u001b[0m\u001b[0;34m\u001b[0m\u001b[0;34m\u001b[0m\u001b[0m\n\u001b[0;32m--> 490\u001b[0;31m             \u001b[0mstdout\u001b[0m\u001b[0;34m,\u001b[0m \u001b[0mstderr\u001b[0m \u001b[0;34m=\u001b[0m \u001b[0mprocess\u001b[0m\u001b[0;34m.\u001b[0m\u001b[0mcommunicate\u001b[0m\u001b[0;34m(\u001b[0m\u001b[0minput\u001b[0m\u001b[0;34m,\u001b[0m \u001b[0mtimeout\u001b[0m\u001b[0;34m=\u001b[0m\u001b[0mtimeout\u001b[0m\u001b[0;34m)\u001b[0m\u001b[0;34m\u001b[0m\u001b[0;34m\u001b[0m\u001b[0m\n\u001b[0m\u001b[1;32m    491\u001b[0m         \u001b[0;32mexcept\u001b[0m \u001b[0mTimeoutExpired\u001b[0m \u001b[0;32mas\u001b[0m \u001b[0mexc\u001b[0m\u001b[0;34m:\u001b[0m\u001b[0;34m\u001b[0m\u001b[0;34m\u001b[0m\u001b[0m\n\u001b[1;32m    492\u001b[0m             \u001b[0mprocess\u001b[0m\u001b[0;34m.\u001b[0m\u001b[0mkill\u001b[0m\u001b[0;34m(\u001b[0m\u001b[0;34m)\u001b[0m\u001b[0;34m\u001b[0m\u001b[0;34m\u001b[0m\u001b[0m\n",
      "\u001b[0;32m~/anaconda3/envs/p37/lib/python3.7/subprocess.py\u001b[0m in \u001b[0;36mcommunicate\u001b[0;34m(self, input, timeout)\u001b[0m\n\u001b[1;32m    962\u001b[0m \u001b[0;34m\u001b[0m\u001b[0m\n\u001b[1;32m    963\u001b[0m             \u001b[0;32mtry\u001b[0m\u001b[0;34m:\u001b[0m\u001b[0;34m\u001b[0m\u001b[0;34m\u001b[0m\u001b[0m\n\u001b[0;32m--> 964\u001b[0;31m                 \u001b[0mstdout\u001b[0m\u001b[0;34m,\u001b[0m \u001b[0mstderr\u001b[0m \u001b[0;34m=\u001b[0m \u001b[0mself\u001b[0m\u001b[0;34m.\u001b[0m\u001b[0m_communicate\u001b[0m\u001b[0;34m(\u001b[0m\u001b[0minput\u001b[0m\u001b[0;34m,\u001b[0m \u001b[0mendtime\u001b[0m\u001b[0;34m,\u001b[0m \u001b[0mtimeout\u001b[0m\u001b[0;34m)\u001b[0m\u001b[0;34m\u001b[0m\u001b[0;34m\u001b[0m\u001b[0m\n\u001b[0m\u001b[1;32m    965\u001b[0m             \u001b[0;32mexcept\u001b[0m \u001b[0mKeyboardInterrupt\u001b[0m\u001b[0;34m:\u001b[0m\u001b[0;34m\u001b[0m\u001b[0;34m\u001b[0m\u001b[0m\n\u001b[1;32m    966\u001b[0m                 \u001b[0;31m# https://bugs.python.org/issue25942\u001b[0m\u001b[0;34m\u001b[0m\u001b[0;34m\u001b[0m\u001b[0;34m\u001b[0m\u001b[0m\n",
      "\u001b[0;32m~/anaconda3/envs/p37/lib/python3.7/subprocess.py\u001b[0m in \u001b[0;36m_communicate\u001b[0;34m(self, input, endtime, orig_timeout)\u001b[0m\n\u001b[1;32m   1713\u001b[0m                             'failed to raise TimeoutExpired.')\n\u001b[1;32m   1714\u001b[0m \u001b[0;34m\u001b[0m\u001b[0m\n\u001b[0;32m-> 1715\u001b[0;31m                     \u001b[0mready\u001b[0m \u001b[0;34m=\u001b[0m \u001b[0mselector\u001b[0m\u001b[0;34m.\u001b[0m\u001b[0mselect\u001b[0m\u001b[0;34m(\u001b[0m\u001b[0mtimeout\u001b[0m\u001b[0;34m)\u001b[0m\u001b[0;34m\u001b[0m\u001b[0;34m\u001b[0m\u001b[0m\n\u001b[0m\u001b[1;32m   1716\u001b[0m                     \u001b[0mself\u001b[0m\u001b[0;34m.\u001b[0m\u001b[0m_check_timeout\u001b[0m\u001b[0;34m(\u001b[0m\u001b[0mendtime\u001b[0m\u001b[0;34m,\u001b[0m \u001b[0morig_timeout\u001b[0m\u001b[0;34m,\u001b[0m \u001b[0mstdout\u001b[0m\u001b[0;34m,\u001b[0m \u001b[0mstderr\u001b[0m\u001b[0;34m)\u001b[0m\u001b[0;34m\u001b[0m\u001b[0;34m\u001b[0m\u001b[0m\n\u001b[1;32m   1717\u001b[0m \u001b[0;34m\u001b[0m\u001b[0m\n",
      "\u001b[0;32m~/anaconda3/envs/p37/lib/python3.7/selectors.py\u001b[0m in \u001b[0;36mselect\u001b[0;34m(self, timeout)\u001b[0m\n\u001b[1;32m    413\u001b[0m         \u001b[0mready\u001b[0m \u001b[0;34m=\u001b[0m \u001b[0;34m[\u001b[0m\u001b[0;34m]\u001b[0m\u001b[0;34m\u001b[0m\u001b[0;34m\u001b[0m\u001b[0m\n\u001b[1;32m    414\u001b[0m         \u001b[0;32mtry\u001b[0m\u001b[0;34m:\u001b[0m\u001b[0;34m\u001b[0m\u001b[0;34m\u001b[0m\u001b[0m\n\u001b[0;32m--> 415\u001b[0;31m             \u001b[0mfd_event_list\u001b[0m \u001b[0;34m=\u001b[0m \u001b[0mself\u001b[0m\u001b[0;34m.\u001b[0m\u001b[0m_selector\u001b[0m\u001b[0;34m.\u001b[0m\u001b[0mpoll\u001b[0m\u001b[0;34m(\u001b[0m\u001b[0mtimeout\u001b[0m\u001b[0;34m)\u001b[0m\u001b[0;34m\u001b[0m\u001b[0;34m\u001b[0m\u001b[0m\n\u001b[0m\u001b[1;32m    416\u001b[0m         \u001b[0;32mexcept\u001b[0m \u001b[0mInterruptedError\u001b[0m\u001b[0;34m:\u001b[0m\u001b[0;34m\u001b[0m\u001b[0;34m\u001b[0m\u001b[0m\n\u001b[1;32m    417\u001b[0m             \u001b[0;32mreturn\u001b[0m \u001b[0mready\u001b[0m\u001b[0;34m\u001b[0m\u001b[0;34m\u001b[0m\u001b[0m\n",
      "\u001b[0;31mKeyboardInterrupt\u001b[0m: "
     ]
    }
   ],
   "source": [
    "iotlabowsn.exp_wait_running(exp_id)"
   ]
  },
  {
   "cell_type": "code",
   "execution_count": 7,
   "metadata": {},
   "outputs": [
    {
     "name": "stdout",
     "output_type": "stream",
     "text": [
      "\n",
      "\n",
      "---------------------------------------------\n",
      "     Compilation\n",
      "---------------------------------------------\n",
      "\n",
      "\n",
      "scons board=iot-lab_M3 toolchain=armgcc  boardopt=printf modules=coap,udp apps=cjoin,cexample debugopt=CCA,schedule  scheduleopt=anycast,lowestrankfirst  stackcfg=badmaxrssi:100,goodminrssi:100  oos_openwsn \n",
      "OUT= scons: Reading SConscript files ...\n",
      "\n",
      " ___                 _ _ _  ___  _ _ \n",
      "| . | ___  ___ ._ _ | | | |/ __>| \\ |\n",
      "| | || . \\/ ._>| ' || | | |\\__ \\|   |\n",
      "`___'|  _/\\___.|_|_||__/_/ <___/|_\\_|\n",
      "     |_|                  openwsn.org\n",
      "\n",
      "scons: done reading SConscript files.\n",
      "scons: Building targets ...\n",
      "arm-none-eabi-size --format=berkeley -d --totals build/iot-lab_M3_armgcc/projects/common/03oos_openwsn_prog\n",
      "   text\t   data\t    bss\t    dec\t    hex\tfilename\n",
      " 146348\t    208\t  65328\t 211884\t  33bac\tbuild/iot-lab_M3_armgcc/projects/common/03oos_openwsn_prog\n",
      " 146348\t    208\t  65328\t 211884\t  33bac\t(TOTALS)\n",
      "scons: done building targets.\n",
      "\n",
      "ERR= \n",
      "\n",
      "\n",
      "---------------------------------------------\n",
      "     Flashing\n",
      "---------------------------------------------\n",
      "\n",
      "\n",
      "iotlab-node --flash /home/theoleyre/openwsn/scripts/jupyter/../../openwsn-fw/build/iot-lab_M3_armgcc/projects/common/03oos_openwsn_prog -i 264032\n",
      "m3-43.strasbourg.iot-lab.info: ok\n",
      "m3-60.strasbourg.iot-lab.info: ok\n",
      "m3-64.strasbourg.iot-lab.info: ok\n"
     ]
    }
   ],
   "source": [
    "# ---- COMPIL + FLASHING----\n",
    "\n",
    "print_header(\"Compilation\")\n",
    "iotlabowsn.compilation_firmware(config)\n",
    "\n",
    "print_header(\"Flashing\")\n",
    "iotlabowsn.flashing_motes(exp_id, config)\n"
   ]
  },
  {
   "cell_type": "code",
   "execution_count": 8,
   "metadata": {},
   "outputs": [
    {
     "name": "stdout",
     "output_type": "stream",
     "text": [
      "\n",
      "\n",
      "---------------------------------------------\n",
      "     Openvizualiser\n",
      "---------------------------------------------\n",
      "\n",
      "\n",
      "python /usr/local/bin/openv-server --opentun --wireshark-debug --mqtt-broker 127.0.0.1 -d --fw-path /home/theoleyre/openwsn/openwsn-fw --lconf /home/theoleyre/openwsn/scripts/jupyter/logs/logging.conf --iotlab-motes m3-43.strasbourg.iot-lab.info m3-60.strasbourg.iot-lab.info m3-64.strasbourg.iot-lab.info \n",
      "No running openvisualizer process\n",
      "Running openvisualizer in a separated process\n",
      "Thread <Thread(Thread-4, started 140700326795008)> started\n",
      "Openvisualizer seems correctly running\n"
     ]
    }
   ],
   "source": [
    "# ---- OpenVisualizer ----\n",
    "\n",
    "print_header(\"Openvizualiser\")\n",
    "iotlabowsn.openvisualizer_create_conf_file(config)\n",
    "t_openvisualizer = iotlabowsn.openvisualizer_start(config)"
   ]
  },
  {
   "cell_type": "code",
   "execution_count": 9,
   "metadata": {},
   "outputs": [
    {
     "name": "stdout",
     "output_type": "stream",
     "text": [
      "\n",
      "\n",
      "---------------------------------------------\n",
      "     Openweb server\n",
      "---------------------------------------------\n",
      "\n",
      "\n",
      "python /usr/local/bin/openv-client view web --debug ERROR\n",
      "Running openweb server in a separated thread\n",
      "Thread <Thread(Thread-5, started 140699974498048)> started, pid 24077\n"
     ]
    }
   ],
   "source": [
    "# ---- Openweb server (optional, for debuging via a web interface) ----\n",
    "\n",
    "print_header(\"Openweb server\")\n",
    "t_openwebserver = iotlabowsn.openwebserver_start(config)"
   ]
  },
  {
   "cell_type": "code",
   "execution_count": 10,
   "metadata": {},
   "outputs": [
    {
     "name": "stdout",
     "output_type": "stream",
     "text": [
      "\n",
      "\n",
      "---------------------------------------------\n",
      "     Configure Motes\n",
      "---------------------------------------------\n",
      "\n",
      "\n",
      "iotlab-node --reset -i 264032\n",
      "OUT= {\n",
      "    \"0\": [\n",
      "        \"m3-43.strasbourg.iot-lab.info\", \n",
      "        \"m3-60.strasbourg.iot-lab.info\", \n",
      "        \"m3-64.strasbourg.iot-lab.info\"\n",
      "    ]\n",
      "}\n",
      "\n",
      "ERR= \n",
      "openv-client root m3-43.strasbourg.iot-lab.info\n",
      "OUT= Ok!\n",
      "\n",
      "ERR= \n"
     ]
    }
   ],
   "source": [
    "# ---- Boots the motes ----\n",
    "\n",
    "print_header(\"Configure Motes\")\n",
    "iotlabowsn.mote_boot(exp_id)\n",
    "iotlabowsn.dagroot_set(config)"
   ]
  },
  {
   "cell_type": "code",
   "execution_count": 11,
   "metadata": {},
   "outputs": [
    {
     "name": "stdout",
     "output_type": "stream",
     "text": [
      "\n",
      "\n",
      "---------------------------------------------\n",
      "     Execution\n",
      "---------------------------------------------\n",
      "\n",
      "\n",
      "gpid me: 24077\n",
      "pid me: 24077\n",
      "nb threads = 7\n"
     ]
    }
   ],
   "source": [
    "# ---- Exp running ----\n",
    "\n",
    "print_header(\"Execution\")\n",
    "print(\"gpid me: {0}\".format(os.getpgid(os.getpid())))\n",
    "print(\"pid me: {0}\".format(os.getpid()))\n",
    "print(\"nb threads = {0}\".format(threading.active_count()))\n"
   ]
  },
  {
   "cell_type": "code",
   "execution_count": null,
   "metadata": {},
   "outputs": [],
   "source": []
  },
  {
   "cell_type": "code",
   "execution_count": null,
   "metadata": {},
   "outputs": [],
   "source": [
    "# killall the children (openweb + openvisualizer)\n",
    "\n",
    "iotlabowsn.run_command(\"sudo killall python\")\n",
    "iotlabowsn.run_command(\"sudo killall /bin/sh\")\n",
    "\n",
    "print(\"Clean end: all the processes have been killed\")"
   ]
  },
  {
   "cell_type": "code",
   "execution_count": null,
   "metadata": {},
   "outputs": [],
   "source": [
    "\n"
   ]
  }
 ],
 "metadata": {
  "kernelspec": {
   "display_name": "Python 3.7.13 ('p37')",
   "language": "python",
   "name": "python3"
  },
  "language_info": {
   "codemirror_mode": {
    "name": "ipython",
    "version": 3
   },
   "file_extension": ".py",
   "mimetype": "text/x-python",
   "name": "python",
   "nbconvert_exporter": "python",
   "pygments_lexer": "ipython3",
   "version": "3.7.13"
  },
  "vscode": {
   "interpreter": {
    "hash": "d485ef6386d2ed87c438ba9c758441cdfbf0b84f67ef1e59f61fc44a434eb50d"
   }
  }
 },
 "nbformat": 4,
 "nbformat_minor": 2
}
