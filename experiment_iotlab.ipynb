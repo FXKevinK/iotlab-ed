{
 "cells": [
  {
   "cell_type": "code",
   "execution_count": 2,
   "metadata": {},
   "outputs": [],
   "source": [
    "import json\n",
    "import os\n",
    "from datetime import datetime\n",
    "from appdirs import user_data_dir\n",
    "\n",
    "\n",
    "timestamp = datetime.now().strftime(\"%Y%m%d-%H-%M-%S\")\n",
    "duration_h = 2\n",
    "num_motes = 25\n",
    "algo = 'ori'\n",
    "pps = 1\n",
    "\n",
    "use_large = False\n",
    "\n",
    "app = f\"03oos_openwsn_prog-{algo}-{pps}\"\n",
    "site = \"lille\"\n",
    "energy_profile = \"energym3\"\n",
    "\n",
    "small_nodes = \"250-254+238-242\" # 5*2 = 10\n",
    "small_nodes_root = \"252\"\n",
    "small_near_root = \"240\"\n",
    "large_nodes = \"250-255+238-243+225-230+205-210+191-196\" # 6*5 = 30 # 169-174+152-157\n",
    "large_nodes_root = \"207\"\n",
    "large_near_root = \"208\"\n",
    "\n",
    "if use_large:\n",
    "    nodes = large_nodes\n",
    "    root = large_nodes_root\n",
    "    near_root = large_near_root\n",
    "else:\n",
    "    nodes = small_nodes\n",
    "    root = small_nodes_root\n",
    "    near_root = small_near_root"
   ]
  },
  {
   "cell_type": "code",
   "execution_count": 26,
   "metadata": {},
   "outputs": [],
   "source": [
    "file_name = 'exp_log'\n",
    "def get_log_path(file_name=\"x\", format=\"txt\", folder_only=False):\n",
    "    if folder_only:\n",
    "        return user_data_dir('openvisualizer')\n",
    "    else:\n",
    "        return os.path.join(user_data_dir('openvisualizer'), file_name+\".\"+format)\n",
    "\n",
    "def run_command(cmd):\n",
    "    val = !{cmd}\n",
    "    val = [str(i).strip() for i in val]\n",
    "    result = json.loads(\"\".join(val))\n",
    "    return result"
   ]
  },
  {
   "attachments": {},
   "cell_type": "markdown",
   "metadata": {},
   "source": [
    "### Submit experimet"
   ]
  },
  {
   "cell_type": "code",
   "execution_count": null,
   "metadata": {},
   "outputs": [],
   "source": [
    "# Submit experiment\n",
    "cmd = f\"iotlab-experiment submit -n test_{timestamp} -d {int(duration_h*60)} -l {site},m3,{app},{energy_profile}\"\n",
    "\n",
    "result = run_command(cmd)\n",
    "exp_id = result[\"id\"]\n",
    "\n",
    "cmd = f\"iotlab-experiment wait -i {exp_id}\"\n",
    "run_command(cmd)\n"
   ]
  },
  {
   "cell_type": "code",
   "execution_count": 22,
   "metadata": {},
   "outputs": [],
   "source": [
    "node_list = []\n",
    "for group in nodes.split(\"+\"):\n",
    "    start, end = group.split(\"-\")\n",
    "    start = int(start)\n",
    "    end = int(end)\n",
    "    gr_ = list(range(start,end+1))\n",
    "    node_list.extend(gr_)\n",
    "\n",
    "node_id_list = [f\"m3-{n}\" for n in node_list]\n",
    "node_site_list = [f\"{n}.{site}.iot-lab.info\" for n in node_id_list]"
   ]
  },
  {
   "cell_type": "code",
   "execution_count": 24,
   "metadata": {},
   "outputs": [
    {
     "name": "stdout",
     "output_type": "stream",
     "text": [
      "openv-server --iotlab-motes m3-250.lille.iot-lab.info m3-251.lille.iot-lab.info m3-252.lille.iot-lab.info m3-253.lille.iot-lab.info m3-254.lille.iot-lab.info m3-238.lille.iot-lab.info m3-239.lille.iot-lab.info m3-240.lille.iot-lab.info m3-241.lille.iot-lab.info m3-242.lille.iot-lab.info\n",
      "openv-client root m3-252.lille.iot-lab.info\n"
     ]
    }
   ],
   "source": [
    "cmd = f\"openv-server --iotlab-motes {' '.join(node_site_list)}\"\n",
    "\n",
    "root_site = f\"m3-{root}.{site}.iot-lab.info\"\n",
    "cmd = f\"openv-client root {root_site}\"\n",
    "\n",
    "cmd = \"openv-client view web\""
   ]
  },
  {
   "cell_type": "code",
   "execution_count": null,
   "metadata": {},
   "outputs": [],
   "source": [
    "# download oml energy\n",
    "oml_path = get_log_path(folder_only=True)\n",
    "cmd = f\"pscp -r -i ~/.ssh/id_rsa.ppk dfawwaz@saclay.iot-lab.info:.iot-lab/{exp_id}/consumption/ {oml_path}/consumption/\"\n",
    "cmd = f\"plot_oml_consum -p -i {oml_path}/consumption/m3-{near_root}.oml\"\n"
   ]
  },
  {
   "attachments": {},
   "cell_type": "markdown",
   "metadata": {},
   "source": [
    "### Add/Remove mote"
   ]
  },
  {
   "cell_type": "code",
   "execution_count": null,
   "metadata": {},
   "outputs": [],
   "source": [
    "# To remove: Stop and clear flash\n",
    "\n",
    "# To add: Stop and clear flash, then flash with oos and start\n",
    "\n",
    "last_node = node_list[-1]\n",
    "cmd = f\"iotlab-node --stop -l {site},m3,{last_node}\"\n",
    "cmd = f\"iotlab-node --start -l {site},m3,{last_node}\""
   ]
  }
 ],
 "metadata": {
  "kernelspec": {
   "display_name": "Python 3",
   "language": "python",
   "name": "python3"
  },
  "language_info": {
   "codemirror_mode": {
    "name": "ipython",
    "version": 3
   },
   "file_extension": ".py",
   "mimetype": "text/x-python",
   "name": "python",
   "nbconvert_exporter": "python",
   "pygments_lexer": "ipython3",
   "version": "3.10.9 (main, Dec 30 2022, 19:25:27) [Clang 14.0.0 (clang-1400.0.29.202)]"
  },
  "orig_nbformat": 4,
  "vscode": {
   "interpreter": {
    "hash": "5984c07bd85a09704efeebc43c280456997f3d9e1810f10980d19f89f173e200"
   }
  }
 },
 "nbformat": 4,
 "nbformat_minor": 2
}
