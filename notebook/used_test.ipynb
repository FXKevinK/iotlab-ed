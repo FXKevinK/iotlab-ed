{
 "cells": [
  {
   "cell_type": "code",
   "execution_count": 21,
   "metadata": {},
   "outputs": [],
   "source": [
    "import json\n",
    "from matplotlib import pyplot as plt\n",
    "import pandas as pd\n",
    "import os\n",
    "import glob\n",
    "import numpy as np\n",
    "from empiricaldist import Cdf\n",
    "import shutil\n",
    "\n",
    "add_path = ''\n",
    "base_path = '../simulator/bin/simData'\n",
    "if add_path: base_path += f'/{add_path}'\n",
    "\n",
    "metric_to_measure = ['pbusy', 'pfree', 'ptransmit', 'preset', 'pstable', 'pfailed', 'psent', 'epsilon']\n",
    "metric_to_measure_slotframe = [*metric_to_measure, 'eb_prob', \"mbr\", \"nbr\"]"
   ]
  },
  {
   "attachments": {},
   "cell_type": "markdown",
   "metadata": {},
   "source": [
    "# Rank Result"
   ]
  },
  {
   "cell_type": "code",
   "execution_count": 22,
   "metadata": {},
   "outputs": [
    {
     "name": "stdout",
     "output_type": "stream",
     "text": [
      "simData\n",
      "\n",
      " simData/ac_1_exp3_imin1_runs1_motes100/exec_numMotes_100.dat.json\n",
      "\n",
      " simData/riata_1_exp3_imin1_runs1_motes100/exec_numMotes_100.dat.json\n",
      "\n",
      " simData/qt_3_exp3_imin1_ep0.2_ad0_runs1_motes100/exec_numMotes_100.dat.json\n",
      "\n",
      " simData/ori_1_exp3_imin1_runs1_motes100/exec_numMotes_100.dat.json\n",
      "\n",
      " simData/qt_1_exp3_imin1_runs1_motes100/exec_numMotes_100.dat.json\n"
     ]
    }
   ],
   "source": [
    "!cd /Users/dzakyzf/lain/iotlab/simulator/bin; python3.7 compute_kpis.py --test=1"
   ]
  },
  {
   "cell_type": "code",
   "execution_count": 23,
   "metadata": {},
   "outputs": [
    {
     "data": {
      "text/html": [
       "<style type=\"text/css\">\n",
       "#T_097b1_row0_col3, #T_097b1_row1_col0, #T_097b1_row1_col2, #T_097b1_row1_col6, #T_097b1_row2_col1, #T_097b1_row2_col4, #T_097b1_row3_col5 {\n",
       "  background-color: orange;\n",
       "}\n",
       "</style>\n",
       "<table id=\"T_097b1_\">\n",
       "  <thead>\n",
       "    <tr>\n",
       "      <th class=\"blank level0\" >&nbsp;</th>\n",
       "      <th class=\"col_heading level0 col0\" >method</th>\n",
       "      <th class=\"col_heading level0 col1\" >trickle_pbusy-mean-mean</th>\n",
       "      <th class=\"col_heading level0 col2\" >current-consumed-mean-mean</th>\n",
       "      <th class=\"col_heading level0 col3\" >rpljoin_time_m-mean-mean</th>\n",
       "      <th class=\"col_heading level0 col4\" >last_failed_dio-sum-mean</th>\n",
       "      <th class=\"col_heading level0 col5\" >alive_nodes-mean</th>\n",
       "      <th class=\"col_heading level0 col6\" >ori_name</th>\n",
       "    </tr>\n",
       "  </thead>\n",
       "  <tbody>\n",
       "    <tr>\n",
       "      <th id=\"T_097b1_level0_row0\" class=\"row_heading level0 row0\" >0</th>\n",
       "      <td id=\"T_097b1_row0_col0\" class=\"data row0 col0\" >qt_1_exp3_imin1_runs1_motes100</td>\n",
       "      <td id=\"T_097b1_row0_col1\" class=\"data row0 col1\" >0.441261</td>\n",
       "      <td id=\"T_097b1_row0_col2\" class=\"data row0 col2\" >0.199508</td>\n",
       "      <td id=\"T_097b1_row0_col3\" class=\"data row0 col3\" >19.847010</td>\n",
       "      <td id=\"T_097b1_row0_col4\" class=\"data row0 col4\" >159.000000</td>\n",
       "      <td id=\"T_097b1_row0_col5\" class=\"data row0 col5\" >99.000000</td>\n",
       "      <td id=\"T_097b1_row0_col6\" class=\"data row0 col6\" >qt_1_exp3_imin1_runs1_motes100</td>\n",
       "    </tr>\n",
       "    <tr>\n",
       "      <th id=\"T_097b1_level0_row1\" class=\"row_heading level0 row1\" >1</th>\n",
       "      <td id=\"T_097b1_row1_col0\" class=\"data row1 col0\" >ac_1_exp3_imin1_runs1_motes100</td>\n",
       "      <td id=\"T_097b1_row1_col1\" class=\"data row1 col1\" >0.569372</td>\n",
       "      <td id=\"T_097b1_row1_col2\" class=\"data row1 col2\" >0.196210</td>\n",
       "      <td id=\"T_097b1_row1_col3\" class=\"data row1 col3\" >21.652938</td>\n",
       "      <td id=\"T_097b1_row1_col4\" class=\"data row1 col4\" >175.000000</td>\n",
       "      <td id=\"T_097b1_row1_col5\" class=\"data row1 col5\" >99.000000</td>\n",
       "      <td id=\"T_097b1_row1_col6\" class=\"data row1 col6\" >ac_1_exp3_imin1_runs1_motes100</td>\n",
       "    </tr>\n",
       "    <tr>\n",
       "      <th id=\"T_097b1_level0_row2\" class=\"row_heading level0 row2\" >2</th>\n",
       "      <td id=\"T_097b1_row2_col0\" class=\"data row2 col0\" >qt_3_exp3_imin1_ep0.2_ad0_runs1_motes100</td>\n",
       "      <td id=\"T_097b1_row2_col1\" class=\"data row2 col1\" >0.366388</td>\n",
       "      <td id=\"T_097b1_row2_col2\" class=\"data row2 col2\" >0.218103</td>\n",
       "      <td id=\"T_097b1_row2_col3\" class=\"data row2 col3\" >21.774852</td>\n",
       "      <td id=\"T_097b1_row2_col4\" class=\"data row2 col4\" >82.000000</td>\n",
       "      <td id=\"T_097b1_row2_col5\" class=\"data row2 col5\" >99.000000</td>\n",
       "      <td id=\"T_097b1_row2_col6\" class=\"data row2 col6\" >qt_3_exp3_imin1_ep0.2_ad0_runs1_motes100</td>\n",
       "    </tr>\n",
       "    <tr>\n",
       "      <th id=\"T_097b1_level0_row3\" class=\"row_heading level0 row3\" >3</th>\n",
       "      <td id=\"T_097b1_row3_col0\" class=\"data row3 col0\" >riata_1_exp3_imin1_runs1_motes100</td>\n",
       "      <td id=\"T_097b1_row3_col1\" class=\"data row3 col1\" >0.582051</td>\n",
       "      <td id=\"T_097b1_row3_col2\" class=\"data row3 col2\" >0.206086</td>\n",
       "      <td id=\"T_097b1_row3_col3\" class=\"data row3 col3\" >21.893788</td>\n",
       "      <td id=\"T_097b1_row3_col4\" class=\"data row3 col4\" >136.000000</td>\n",
       "      <td id=\"T_097b1_row3_col5\" class=\"data row3 col5\" >95.000000</td>\n",
       "      <td id=\"T_097b1_row3_col6\" class=\"data row3 col6\" >riata_1_exp3_imin1_runs1_motes100</td>\n",
       "    </tr>\n",
       "    <tr>\n",
       "      <th id=\"T_097b1_level0_row4\" class=\"row_heading level0 row4\" >4</th>\n",
       "      <td id=\"T_097b1_row4_col0\" class=\"data row4 col0\" >ori_1_exp3_imin1_runs1_motes100</td>\n",
       "      <td id=\"T_097b1_row4_col1\" class=\"data row4 col1\" >0.504032</td>\n",
       "      <td id=\"T_097b1_row4_col2\" class=\"data row4 col2\" >0.226923</td>\n",
       "      <td id=\"T_097b1_row4_col3\" class=\"data row4 col3\" >23.542995</td>\n",
       "      <td id=\"T_097b1_row4_col4\" class=\"data row4 col4\" >151.000000</td>\n",
       "      <td id=\"T_097b1_row4_col5\" class=\"data row4 col5\" >96.000000</td>\n",
       "      <td id=\"T_097b1_row4_col6\" class=\"data row4 col6\" >ori_1_exp3_imin1_runs1_motes100</td>\n",
       "    </tr>\n",
       "  </tbody>\n",
       "</table>\n"
      ],
      "text/plain": [
       "<pandas.io.formats.style.Styler at 0x1551a5fd0>"
      ]
     },
     "execution_count": 23,
     "metadata": {},
     "output_type": "execute_result"
    }
   ],
   "source": [
    "import pandas as pd\n",
    "\n",
    "pd.set_option('display.max_colwidth', None)\n",
    "\n",
    "df = pd.read_csv(f'{base_path}/comparison_merged.csv', sep='\\t')\n",
    "df.sort_values(by='rpljoin_time_m-mean-mean', inplace=True, ignore_index=True)\n",
    "df = df[df.columns[~df.columns.str.contains('-std|dead')]]\n",
    "df = df.style.highlight_min(color = 'orange', axis = 0)\n",
    "df"
   ]
  },
  {
   "attachments": {},
   "cell_type": "markdown",
   "metadata": {},
   "source": [
    "# Convergence"
   ]
  },
  {
   "cell_type": "code",
   "execution_count": 24,
   "metadata": {},
   "outputs": [],
   "source": [
    "# define the name of the directory to be deleted\n",
    "fig_path = f\"{base_path}/figures\"\n",
    "\n",
    "def remove_create_folder(path):\n",
    "    try:\n",
    "        shutil.rmtree(path)\n",
    "    except OSError as e:\n",
    "        print(e)\n",
    "\n",
    "    try:\n",
    "        os.makedirs(path)\n",
    "    except OSError as e:\n",
    "        print(e)\n",
    "\n",
    "remove_create_folder(fig_path)"
   ]
  },
  {
   "cell_type": "code",
   "execution_count": 25,
   "metadata": {},
   "outputs": [],
   "source": [
    "subfolders = list(\n",
    "    [os.path.join(base_path, x) for x in os.listdir(base_path)]\n",
    ")\n",
    "\n",
    "main_result = {}\n",
    "\n",
    "for subfolder in subfolders:\n",
    "    if not os.path.isdir(subfolder):\n",
    "        continue\n",
    "    \n",
    "    mthd = subfolder.split('/')[-1]\n",
    "    for infile in glob.glob(os.path.join(subfolder, '*.dat.json')):\n",
    "        with open(infile, 'r') as f:\n",
    "            data = json.load(f)\n",
    "\n",
    "            result = {}\n",
    "            for k in metric_to_measure:\n",
    "                new_key = f'trickle_{k}'\n",
    "                result[new_key] = {}\n",
    "\n",
    "            for k in metric_to_measure_slotframe:\n",
    "                new_key = f'slotframe_{k}'\n",
    "                result[new_key] = {}\n",
    "\n",
    "            per_slotframe_run = 0\n",
    "            for run_id in data.keys():\n",
    "                for mote_id in data[run_id].keys():\n",
    "                    if mote_id == 'global-stats':\n",
    "                        per_slotframe_run = data[run_id]['global-stats']['per_slotframe_run'] \n",
    "                        result['per_slotframe_run'] = per_slotframe_run\n",
    "                        continue\n",
    "                \n",
    "                    for it in data[run_id][mote_id]['trickle']:\n",
    "                        trickle_it = int(it)\n",
    "                        trickle_data = data[run_id][mote_id]['trickle'][it]\n",
    "\n",
    "                        for k in metric_to_measure:\n",
    "                            new_key = f'trickle_{k}'\n",
    "                            if trickle_it not in result[new_key].keys():\n",
    "                                result[new_key][trickle_it] = []\n",
    "                            \n",
    "                            if k in trickle_data.keys():\n",
    "                                new_key = f'trickle_{k}'\n",
    "                                val = trickle_data[k]\n",
    "                                if val is not None:\n",
    "                                    result[new_key][trickle_it].append(val)\n",
    "\n",
    "                    for k in metric_to_measure_slotframe:\n",
    "                        new_key = f'slotframe_{k}'\n",
    "                        values = data[run_id][mote_id].get(f'per_slotframe_{k}', [])\n",
    "\n",
    "                        for idx, val in enumerate(values):\n",
    "                            if idx not in result[new_key].keys():\n",
    "                                result[new_key][idx] = []\n",
    "                            result[new_key][idx].append(val)\n",
    "            algo = infile.split(\"/\")[-2]\n",
    "            main_result[algo] = result"
   ]
  },
  {
   "attachments": {},
   "cell_type": "markdown",
   "metadata": {},
   "source": [
    "### Figure per algorithm"
   ]
  },
  {
   "cell_type": "code",
   "execution_count": 26,
   "metadata": {},
   "outputs": [
    {
     "name": "stdout",
     "output_type": "stream",
     "text": [
      "[Errno 2] No such file or directory: '../simulator/bin/simData/figures/Figure per algorithm/'\n"
     ]
    }
   ],
   "source": [
    "conv_base_path = f'{fig_path}/Figure per algorithm/'\n",
    "remove_create_folder(conv_base_path)\n",
    "\n",
    "# Trickle states\n",
    "for algo in sorted(main_result.keys()):\n",
    "    fig = plt.figure(figsize=(15,5), dpi=300)\n",
    "    \n",
    "    for k in metric_to_measure:\n",
    "        metric = f'trickle_{k}'\n",
    "\n",
    "        data = []\n",
    "        is_over = False\n",
    "        for state in sorted(main_result[algo][metric].keys()):\n",
    "            values = main_result[algo][metric][state]\n",
    "            if not values or all(i is None for i in values): continue\n",
    "            mean_ = np.mean(values)\n",
    "            if np.max(values) > 1: is_over = True\n",
    "            data.append(mean_)\n",
    "        \n",
    "        if not is_over: plt.plot(data, label=metric, linestyle='--', marker='o')\n",
    "        \n",
    "    plt.legend()\n",
    "    plt.title(f'Trickle of {algo}')\n",
    "    plt.xlabel('Trickle states')\n",
    "    plt.ylabel('Values')\n",
    "    plt.tight_layout()\n",
    "    plt.savefig(f\"{conv_base_path}/Trickle_{algo}.png\")\n",
    "    plt.close()\n",
    "\n",
    "# Per slotframe\n",
    "for algo in sorted(main_result.keys()):\n",
    "    fig = plt.figure(figsize=(15,5), dpi=300)\n",
    "    per_slotframe_run = main_result[algo]['per_slotframe_run']\n",
    "    \n",
    "    for k in metric_to_measure_slotframe:\n",
    "        metric = f'slotframe_{k}'\n",
    "\n",
    "        data = []\n",
    "        is_over = False\n",
    "        for slotframe in sorted(main_result[algo][metric].keys()):\n",
    "            values = main_result[algo][metric][slotframe]\n",
    "            if not values or all(i is None for i in values): continue\n",
    "            mean_ = np.mean(values)\n",
    "            if np.max(values) > 1: is_over = True\n",
    "            data.append(mean_)\n",
    "        \n",
    "        if not is_over:\n",
    "            range_ = [x*per_slotframe_run for x in range(1, len(data)+1)]\n",
    "            plt.plot(range_, data, label=metric, linestyle='--', marker='o')\n",
    "    \n",
    "    plt.legend()\n",
    "    plt.title(f'Slotframe of {algo}')\n",
    "    plt.xlabel('Slotframe')\n",
    "    plt.ylabel('Values')\n",
    "    plt.tight_layout()\n",
    "    plt.savefig(f\"{conv_base_path}/Slotframe_{algo}.png\")\n",
    "    plt.close()"
   ]
  },
  {
   "attachments": {},
   "cell_type": "markdown",
   "metadata": {},
   "source": [
    "### Figure per metric"
   ]
  },
  {
   "cell_type": "code",
   "execution_count": 27,
   "metadata": {},
   "outputs": [
    {
     "name": "stdout",
     "output_type": "stream",
     "text": [
      "[Errno 2] No such file or directory: '../simulator/bin/simData/figures/Figure per metric/'\n"
     ]
    }
   ],
   "source": [
    "conv_base_path = f'{fig_path}/Figure per metric/'\n",
    "remove_create_folder(conv_base_path)\n",
    "\n",
    "# Trickle states\n",
    "for k in metric_to_measure:\n",
    "    fig = plt.figure(figsize=(15,5), dpi=300)\n",
    "    metric = f'trickle_{k}'\n",
    "\n",
    "    for algo in sorted(main_result.keys()):\n",
    "\n",
    "        data = []\n",
    "        for state in sorted(main_result[algo][metric].keys()):\n",
    "            values = main_result[algo][metric][state]\n",
    "            if not values or all(i is None for i in values): continue\n",
    "            mean_ = np.mean(values)\n",
    "            data.append(mean_)\n",
    "        \n",
    "        plt.plot(data, label=f'{metric}_{algo}', linestyle='--', marker='o')\n",
    "        \n",
    "    plt.legend()\n",
    "    plt.title(f'Trickle of {metric}')\n",
    "    plt.xlabel('Trickle states')\n",
    "    plt.ylabel('Values')\n",
    "    plt.tight_layout()\n",
    "    plt.savefig(f\"{conv_base_path}/metric_{metric}.png\")\n",
    "    plt.close()\n",
    "\n",
    "# Per slotframe\n",
    "for k in metric_to_measure_slotframe:\n",
    "    fig = plt.figure(figsize=(15,5), dpi=300)\n",
    "    metric = f'slotframe_{k}'\n",
    "    \n",
    "    for algo in sorted(main_result.keys()):\n",
    "        data = []\n",
    "        per_slotframe_run = main_result[algo]['per_slotframe_run']\n",
    "        for slotframe in sorted(main_result[algo][metric].keys()):\n",
    "            values = main_result[algo][metric][slotframe]\n",
    "            if not values or all(i is None for i in values): continue\n",
    "            mean_ = np.mean(values)\n",
    "            data.append(mean_)\n",
    "        \n",
    "        range_ = [x*per_slotframe_run for x in range(1, len(data)+1)]\n",
    "        plt.plot(range_, data, label=f'{metric}_{algo}', linestyle='--', marker='o')\n",
    "    \n",
    "    plt.legend()\n",
    "    plt.title(f'Slotframe of {metric}')\n",
    "    plt.xlabel('Slotframe')\n",
    "    plt.ylabel('Values')\n",
    "    plt.tight_layout()\n",
    "    plt.savefig(f\"{conv_base_path}/metric_{metric}.png\")\n",
    "    plt.close()"
   ]
  },
  {
   "cell_type": "code",
   "execution_count": 28,
   "metadata": {},
   "outputs": [],
   "source": [
    "# algo = 'ori_5_exp3_random3_runs1_motes10_minutes60_disprio1_autoeb3_autok1_autot1_ql1'\n",
    "# metric = 'slotframe_nbr'\n",
    "\n",
    "\n",
    "# data = []\n",
    "# for slotframe in sorted(main_result[algo][metric].keys()):\n",
    "#     values = main_result[algo][metric][slotframe]\n",
    "#     mean_ = int(np.ceil(np.mean(values)))\n",
    "#     data.append(mean_)"
   ]
  },
  {
   "cell_type": "code",
   "execution_count": 29,
   "metadata": {},
   "outputs": [],
   "source": [
    "# algo = 'ori_2_exp3_random3_runs1_motes10_minutes60_disprio1_autoeb3_autok1_autot1_ql1'\n",
    "# metric = 'trickle_pbusy'\n",
    "\n",
    "# data = []\n",
    "# for state in sorted(main_result[algo][metric].keys()):\n",
    "#     values = main_result[algo][metric][state]\n",
    "#     mean_ = np.mean(values)\n",
    "#     data.append(mean_)"
   ]
  },
  {
   "cell_type": "code",
   "execution_count": 30,
   "metadata": {},
   "outputs": [],
   "source": [
    "# temp = np.array(data) + data[-1]\n",
    "# aa = np.ceil(np.arange(5, 2, -0.1))\n",
    "# data2 = [*data, *aa, *temp]\n",
    "# # \n",
    "# eb_prob = 1/4\n",
    "# max_ = 1 - eb_prob"
   ]
  },
  {
   "cell_type": "code",
   "execution_count": 31,
   "metadata": {},
   "outputs": [],
   "source": [
    "# total = 0\n",
    "# avgs = []\n",
    "# avg = 0\n",
    "# prev_val = None\n",
    "# move = []\n",
    "# move2 = []\n",
    "\n",
    "# for idx, val in enumerate(data2):\n",
    "#     total += val\n",
    "#     avg = total / (idx+1)\n",
    "#     avgs.append(avg)\n",
    "\n",
    "#     m = 1\n",
    "#     move.append(m)\n",
    "#     eb_used_prob = eb_prob\n",
    "#     eb_used_prob += (max_ / pow(2, val))\n",
    "    \n",
    "#     move2.append(eb_used_prob)\n",
    "#     prev_val = val\n",
    "\n",
    "# plt.plot(move2)\n",
    "# plt.plot(len(move2) * [eb_prob])\n",
    "# plt.show()\n",
    "# plt.close()"
   ]
  },
  {
   "cell_type": "code",
   "execution_count": 32,
   "metadata": {},
   "outputs": [],
   "source": [
    "# plt.plot(data2)\n",
    "# plt.plot(avgs)\n",
    "# plt.plot(move)\n",
    "# plt.show()\n",
    "# plt.close()"
   ]
  },
  {
   "attachments": {},
   "cell_type": "markdown",
   "metadata": {},
   "source": [
    "### CDF all algorithms"
   ]
  },
  {
   "cell_type": "code",
   "execution_count": 33,
   "metadata": {},
   "outputs": [
    {
     "name": "stdout",
     "output_type": "stream",
     "text": [
      "[Errno 2] No such file or directory: '../simulator/bin/simData/figures/CDF all algorithms'\n"
     ]
    }
   ],
   "source": [
    "conv_base_path = f'{fig_path}/CDF all algorithms'\n",
    "remove_create_folder(conv_base_path)\n",
    "\n",
    "# Trickle states\n",
    "for k in metric_to_measure:\n",
    "    fig = plt.figure(figsize=(10,10), dpi=300)\n",
    "    metric = f'trickle_{k}'\n",
    "\n",
    "    for algo in sorted(main_result.keys()):\n",
    "        data = []\n",
    "        for state in sorted(main_result[algo][metric].keys()):\n",
    "            values = main_result[algo][metric][state]\n",
    "            if not values or all(i is None for i in values): continue\n",
    "            mean_ = np.mean(values)\n",
    "            data.append(mean_)\n",
    "        \n",
    "        if len(data) > 0: Cdf.from_seq(data).plot()\n",
    "        \n",
    "    plt.legend(main_result.keys())\n",
    "    plt.title(metric)\n",
    "    plt.xlabel('Values')\n",
    "    plt.ylabel('CDF')\n",
    "    plt.tight_layout()\n",
    "    plt.savefig(f\"{conv_base_path}/{metric}_cdf.png\")\n",
    "    plt.close()\n",
    "\n",
    "\n",
    "# Per slotframe\n",
    "for k in metric_to_measure_slotframe:\n",
    "    fig = plt.figure(figsize=(10,10), dpi=300)\n",
    "    metric = f'slotframe_{k}'\n",
    "    \n",
    "    for algo in sorted(main_result.keys()):\n",
    "        data = []\n",
    "        per_slotframe_run = main_result[algo]['per_slotframe_run']\n",
    "        for slotframe in sorted(main_result[algo][metric].keys()):\n",
    "            values = main_result[algo][metric][slotframe]\n",
    "            if not values or all(i is None for i in values): continue\n",
    "            mean_ = np.mean(values)\n",
    "            data.append(mean_)\n",
    "        \n",
    "        if len(data) > 0: Cdf.from_seq(data).plot()\n",
    "    \n",
    "    plt.legend(main_result.keys())\n",
    "    plt.title(metric)\n",
    "    plt.xlabel('Values')\n",
    "    plt.ylabel('CDF')\n",
    "    plt.tight_layout()\n",
    "    plt.savefig(f\"{conv_base_path}/{metric}_cdf.png\")\n",
    "    plt.close()"
   ]
  }
 ],
 "metadata": {
  "kernelspec": {
   "display_name": "Python 3",
   "language": "python",
   "name": "python3"
  },
  "language_info": {
   "codemirror_mode": {
    "name": "ipython",
    "version": 3
   },
   "file_extension": ".py",
   "mimetype": "text/x-python",
   "name": "python",
   "nbconvert_exporter": "python",
   "pygments_lexer": "ipython3",
   "version": "3.7.15"
  },
  "orig_nbformat": 4,
  "vscode": {
   "interpreter": {
    "hash": "e774977668b7c0ae8309835a5187aa7fbf7669e7d0bb59755bc63e573643edcd"
   }
  }
 },
 "nbformat": 4,
 "nbformat_minor": 2
}
