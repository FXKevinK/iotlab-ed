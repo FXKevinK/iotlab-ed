{
 "cells": [
  {
   "cell_type": "code",
   "execution_count": 11,
   "metadata": {},
   "outputs": [],
   "source": [
    "import json\n",
    "from matplotlib import pyplot as plt\n",
    "import pandas as pd"
   ]
  },
  {
   "attachments": {},
   "cell_type": "markdown",
   "metadata": {},
   "source": [
    "# Convergence"
   ]
  },
  {
   "cell_type": "code",
   "execution_count": 40,
   "metadata": {},
   "outputs": [],
   "source": [
    "\n",
    "with open(\"../simulator/bin/simData/qt_1_n50-i1/exec_numMotes_50.dat.json\") as file:\n",
    "    data = json.load(file)\n",
    "\n",
    "    for mote in data['0'].keys():\n",
    "        if 'trickle' in data['0'][mote]:\n",
    "            # if int(mote) == 9:\n",
    "            v = data['0'][mote]['trickle']\n",
    "            df = pd.DataFrame(v).T\n",
    "            \n",
    "            # df.to_csv('exp3.csv', index=False)\n",
    "            if 'pfree' in df.columns and 'epsilon' in df.columns and 'k' in df.columns and 'preset' in df.columns:\n",
    "                fig = plt.figure(figsize=(15,5))\n",
    "                # plt.plot(df['pfree']*10, label='pfree', linestyle='--', marker='o')\n",
    "                # plt.plot(df['epsilon']*10, label='epsilon', linestyle='--', marker='o')\n",
    "                plt.plot(df['k'], label='k', linestyle='--', marker='o')\n",
    "                plt.plot(df['nbr'], label='nbr', linestyle='--', marker='o')\n",
    "                plt.plot(df['preset']*10, label='preset', linestyle='--', marker='o')\n",
    "                plt.plot(df['counter'], label='counter', linestyle='--', marker='o')\n",
    "                # plt.plot(df['t_start'], label='t_start')\n",
    "                # plt.plot(df['t_end'], label='t_end')\n",
    "                plt.legend()\n",
    "                plt.savefig(f\"figures/{mote}.png\")\n",
    "                plt.close()"
   ]
  },
  {
   "attachments": {},
   "cell_type": "markdown",
   "metadata": {},
   "source": [
    "# Grouped bar"
   ]
  },
  {
   "cell_type": "code",
   "execution_count": 13,
   "metadata": {},
   "outputs": [
    {
     "name": "stderr",
     "output_type": "stream",
     "text": [
      "/Users/dzakyzf/Library/Python/3.7/lib/python/site-packages/ipykernel_launcher.py:16: FutureWarning: The default value of regex will change from True to False in a future version. In addition, single character regular expressions will *not* be treated as literal strings when regex=True.\n",
      "  \n",
      "/Users/dzakyzf/Library/Python/3.7/lib/python/site-packages/ipykernel_launcher.py:17: FutureWarning: The default value of regex will change from True to False in a future version. In addition, single character regular expressions will *not* be treated as literal strings when regex=True.\n",
      "  app.launch_new_instance()\n"
     ]
    }
   ],
   "source": [
    "measured_metrics = {\n",
    "    'joining-time': 'mean',\n",
    "    'current-consumed': 'mean',\n",
    "    'last_all_ops': 'sum',\n",
    "    'last_curr_mbr': 'mean'\n",
    "}\n",
    "\n",
    "df_ = pd.read_csv(\"../simulator/bin/simData/comparison_merged.csv\")\n",
    "c_ = df_.columns.to_list()\n",
    "c_.remove('parameter')\n",
    "c_.remove('method')\n",
    "\n",
    "df_t = df_.pivot(index='parameter', columns='method', values=c_)\n",
    "df_t = df_t.reset_index()\n",
    "df_t.columns = df_t.columns.map('-'.join)\n",
    "df_t['n'] = df_t['parameter-'].str.replace(\"(\", \"\").str.replace(\")\", \"\").str.split(\", \").str[0].astype(int)\n",
    "df_t['i'] = df_t['parameter-'].str.replace(\"(\", \"\").str.replace(\")\", \"\").str.split(\", \").str[1].astype(int)\n",
    "df_t.sort_values(by=['n', 'i'], inplace=True)\n",
    "\n",
    "for c in df_t.columns:\n",
    "    method = c.split(\"-\")[-1]\n",
    "    if len(method) > 1:\n",
    "        new_col_name = method + \"-\" + c.replace(f\"-{method}\", \"\")\n",
    "        df_t.rename(columns={c: new_col_name}, inplace=True)\n",
    "\n",
    "target_ = list(measured_metrics.keys())\n",
    "\n",
    "for col in target_:\n",
    "\n",
    "    temp_dic = {}\n",
    "    for i in df_t.columns[df_t.columns.str.contains(col)]:\n",
    "        if 'ORI' in i:\n",
    "            id_ = 10\n",
    "        elif 'RIATA' in i:\n",
    "            id_ = 20\n",
    "        elif 'AC' in i:\n",
    "            id_ = 30\n",
    "        else:\n",
    "            id_ = 40\n",
    "        if \"-std\" in i: id_ += 1\n",
    "        temp_dic[i] = id_\n",
    "\n",
    "    sorted_cols = list(dict(sorted(temp_dic.items(), key=lambda item: item[1])).keys())\n",
    "    cols = [\"parameter-\"] + sorted_cols\n",
    "    dftt = df_t[cols]\n",
    "    subkey = measured_metrics[col]\n",
    "    dftt.to_csv(f\"exp3/{col}-{subkey}.csv\", index=False)"
   ]
  }
 ],
 "metadata": {
  "kernelspec": {
   "display_name": "Python 3",
   "language": "python",
   "name": "python3"
  },
  "language_info": {
   "codemirror_mode": {
    "name": "ipython",
    "version": 3
   },
   "file_extension": ".py",
   "mimetype": "text/x-python",
   "name": "python",
   "nbconvert_exporter": "python",
   "pygments_lexer": "ipython3",
   "version": "3.7.15"
  },
  "orig_nbformat": 4,
  "vscode": {
   "interpreter": {
    "hash": "e774977668b7c0ae8309835a5187aa7fbf7669e7d0bb59755bc63e573643edcd"
   }
  }
 },
 "nbformat": 4,
 "nbformat_minor": 2
}
