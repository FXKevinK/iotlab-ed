{
 "cells": [
  {
   "attachments": {},
   "cell_type": "markdown",
   "metadata": {},
   "source": [
    "# Experiment IoT-Lab"
   ]
  },
  {
   "cell_type": "code",
   "execution_count": 47,
   "metadata": {},
   "outputs": [
    {
     "name": "stdout",
     "output_type": "stream",
     "text": [
      "[1, 2, 19, 20, 29, 30, 47, 48, 53, 54, 5, 6, 21, 22, 33, 34, 49, 50, 57, 58, 9, 10, 23, 24, 37, 38, 51, 52, 61, 62]\n",
      "[1, 2, 19, 20, 29, 30, 47, 48, 53, 54, 5, 6, 21, 22, 33, 34, 49, 50, 57, 58, 9, 10, 23, 24, 37, 38, 51, 52, 61, 62]\n",
      "[]\n"
     ]
    }
   ],
   "source": [
    "import json\n",
    "import os\n",
    "from datetime import datetime\n",
    "from appdirs import user_data_dir\n",
    "\n",
    "\n",
    "timestamp = datetime.now().strftime(\"%Y%m%d-%H-%M-%S\")\n",
    "duration_h = 2\n",
    "algo = 'qt'\n",
    "\n",
    "use_large = True\n",
    "add_or_remove = False\n",
    "\n",
    "if algo:\n",
    "    app_path = f\"/Users/dzakyzf/lain/iotlab/openwsniotlab/openwsn-fw/build/iot-lab_M3_armgcc_{algo}/projects/common/03oos_openwsn_prog\"\n",
    "else:\n",
    "    app_path = \"/Users/dzakyzf/lain/iotlab/openwsniotlab/openwsn-fw/build/iot-lab_M3_armgcc/projects/common/03oos_openwsn_prog\"\n",
    "\n",
    "site = \"strasbourg\"\n",
    "energy_profile = \"energym3\"\n",
    "\n",
    "small_nodes = [1,2,19,20,29,30,47,48,53,54] # 10\n",
    "small_nodes_root = 29\n",
    "small_near_root = 30\n",
    "small_stop_nodes = [47,20]\n",
    "\n",
    "large_nodes = small_nodes + [5,6,21,22,33,34,49,50,57,58] + [9,10,23,24,37,38,51,52,61,62] # 30\n",
    "large_nodes_root = 33\n",
    "large_near_root = 34\n",
    "large_stop_nodes = [47,20] + [22,49] + [24,51]\n",
    "\n",
    "\n",
    "stop_nodes = []\n",
    "if use_large:\n",
    "    all_nodes = large_nodes\n",
    "    if add_or_remove:\n",
    "        stop_nodes = large_stop_nodes\n",
    "    else:\n",
    "        nodes = all_nodes\n",
    "        \n",
    "    root = large_nodes_root\n",
    "    near_root = large_near_root\n",
    "else:\n",
    "    all_nodes = small_nodes\n",
    "    if add_or_remove:\n",
    "        stop_nodes = small_stop_nodes\n",
    "    else:\n",
    "        nodes = all_nodes\n",
    "    root = small_nodes_root\n",
    "    near_root = small_near_root\n",
    "nodes = [x for x in all_nodes if x not in stop_nodes]\n",
    "    \n",
    "\n",
    "print(all_nodes)\n",
    "print(nodes)\n",
    "print(stop_nodes)"
   ]
  },
  {
   "cell_type": "code",
   "execution_count": null,
   "metadata": {},
   "outputs": [],
   "source": [
    "# arm-none-eabi-size 03oos_openwsn_prog\n",
    "\n",
    "# check size\n",
    "# ROM usage = text = 108.576 kb\n",
    "# RAM usage = data + bss = 65.532 kb\n",
    "\n",
    "# file size 1066208 bytes = 1.066208 mb\n",
    "#    text\t   data\t    bss\t    dec\t    hex\tfilename\n",
    "#  108576\t     28\t  65504\t 174108\t  2a81c\t03oos_openwsn_prog"
   ]
  },
  {
   "cell_type": "code",
   "execution_count": 48,
   "metadata": {},
   "outputs": [],
   "source": [
    "file_name = 'exp_log'\n",
    "def get_log_path(file_name=\"x\", format=\"txt\", folder_only=False):\n",
    "    if folder_only:\n",
    "        return user_data_dir('openvisualizer')\n",
    "    else:\n",
    "        return os.path.join(user_data_dir('openvisualizer'), file_name+\".\"+format)\n",
    "\n",
    "def run_command(cmd):\n",
    "    print(cmd)\n",
    "    val = !{cmd}\n",
    "    val = [str(i).strip() for i in val]\n",
    "    result = json.loads(\"\".join(val))\n",
    "    return result\n",
    "\n",
    "def nodes2list(nodes):\n",
    "    return \"+\".join([str(x) for x in nodes])"
   ]
  },
  {
   "attachments": {},
   "cell_type": "markdown",
   "metadata": {},
   "source": [
    "### Submit experimet"
   ]
  },
  {
   "cell_type": "code",
   "execution_count": 49,
   "metadata": {},
   "outputs": [
    {
     "name": "stdout",
     "output_type": "stream",
     "text": [
      "iotlab-experiment submit -n test_qt_large_20230113-07-37-53 -d 120 -l strasbourg,m3,1+2+19+20+29+30+47+48+53+54+5+6+21+22+33+34+49+50+57+58+9+10+23+24+37+38+51+52+61+62,,energym3\n"
     ]
    }
   ],
   "source": [
    "# Submit experiment\n",
    "cmd = f\"iotlab-experiment submit -n test_{algo}_{'large' if use_large else 'small'}_{timestamp} -d {int(duration_h*60)} -l {site},m3,{nodes2list(all_nodes)},,{energy_profile}\"\n",
    "print(cmd)"
   ]
  },
  {
   "cell_type": "code",
   "execution_count": 50,
   "metadata": {},
   "outputs": [
    {
     "name": "stdout",
     "output_type": "stream",
     "text": [
      "iotlab-experiment submit -n test_qt_large_20230113-07-37-53 -d 120 -l strasbourg,m3,1+2+19+20+29+30+47+48+53+54+5+6+21+22+33+34+49+50+57+58+9+10+23+24+37+38+51+52+61+62,,energym3\n"
     ]
    },
    {
     "data": {
      "text/plain": [
       "353055"
      ]
     },
     "execution_count": 50,
     "metadata": {},
     "output_type": "execute_result"
    }
   ],
   "source": [
    "result = run_command(cmd)\n",
    "exp_id = result[\"id\"]\n",
    "exp_id"
   ]
  },
  {
   "cell_type": "code",
   "execution_count": 51,
   "metadata": {},
   "outputs": [
    {
     "name": "stdout",
     "output_type": "stream",
     "text": [
      "Waiting that experiment 353055 gets in state Running\n",
      "\"Running\"\n"
     ]
    }
   ],
   "source": [
    "!iotlab-experiment wait"
   ]
  },
  {
   "attachments": {},
   "cell_type": "markdown",
   "metadata": {},
   "source": [
    "### Flash motes"
   ]
  },
  {
   "cell_type": "code",
   "execution_count": 52,
   "metadata": {},
   "outputs": [
    {
     "data": {
      "text/plain": [
       "'/Users/dzakyzf/lain/iotlab/openwsniotlab/openwsn-fw/build/iot-lab_M3_armgcc_qt/projects/common/03oos_openwsn_prog'"
      ]
     },
     "execution_count": 52,
     "metadata": {},
     "output_type": "execute_result"
    }
   ],
   "source": [
    "app_path"
   ]
  },
  {
   "cell_type": "code",
   "execution_count": 45,
   "metadata": {},
   "outputs": [
    {
     "name": "stdout",
     "output_type": "stream",
     "text": [
      "iotlab-node --flash-idle -l strasbourg,m3,1+2+19+20+29+30+47+48+53+54+5+6+21+22+33+34+49+50+57+58+9+10+23+24+37+38+51+52+61+62\n",
      "iotlab-node --reset -l strasbourg,m3,1+2+19+20+29+30+47+48+53+54+5+6+21+22+33+34+49+50+57+58+9+10+23+24+37+38+51+52+61+62\n"
     ]
    },
    {
     "data": {
      "text/plain": [
       "{'0': ['m3-1.strasbourg.iot-lab.info',\n",
       "  'm3-2.strasbourg.iot-lab.info',\n",
       "  'm3-5.strasbourg.iot-lab.info',\n",
       "  'm3-6.strasbourg.iot-lab.info',\n",
       "  'm3-9.strasbourg.iot-lab.info',\n",
       "  'm3-10.strasbourg.iot-lab.info',\n",
       "  'm3-19.strasbourg.iot-lab.info',\n",
       "  'm3-21.strasbourg.iot-lab.info',\n",
       "  'm3-23.strasbourg.iot-lab.info',\n",
       "  'm3-29.strasbourg.iot-lab.info',\n",
       "  'm3-30.strasbourg.iot-lab.info',\n",
       "  'm3-33.strasbourg.iot-lab.info',\n",
       "  'm3-34.strasbourg.iot-lab.info',\n",
       "  'm3-37.strasbourg.iot-lab.info',\n",
       "  'm3-38.strasbourg.iot-lab.info',\n",
       "  'm3-48.strasbourg.iot-lab.info',\n",
       "  'm3-50.strasbourg.iot-lab.info',\n",
       "  'm3-52.strasbourg.iot-lab.info',\n",
       "  'm3-53.strasbourg.iot-lab.info',\n",
       "  'm3-54.strasbourg.iot-lab.info',\n",
       "  'm3-57.strasbourg.iot-lab.info',\n",
       "  'm3-58.strasbourg.iot-lab.info',\n",
       "  'm3-61.strasbourg.iot-lab.info',\n",
       "  'm3-62.strasbourg.iot-lab.info'],\n",
       " '1': ['m3-20.strasbourg.iot-lab.info',\n",
       "  'm3-22.strasbourg.iot-lab.info',\n",
       "  'm3-24.strasbourg.iot-lab.info',\n",
       "  'm3-47.strasbourg.iot-lab.info',\n",
       "  'm3-49.strasbourg.iot-lab.info',\n",
       "  'm3-51.strasbourg.iot-lab.info']}"
      ]
     },
     "execution_count": 45,
     "metadata": {},
     "output_type": "execute_result"
    }
   ],
   "source": [
    "cmd = f'iotlab-node --flash-idle -l {site},m3,{nodes2list(nodes)}'\n",
    "run_command(cmd)\n",
    "\n",
    "cmd = f\"iotlab-node --reset -l {site},m3,{nodes2list(nodes)}\"\n",
    "result = run_command(cmd)"
   ]
  },
  {
   "cell_type": "code",
   "execution_count": 59,
   "metadata": {},
   "outputs": [
    {
     "name": "stdout",
     "output_type": "stream",
     "text": [
      "iotlab-node --flash /Users/dzakyzf/lain/iotlab/openwsniotlab/openwsn-fw/build/iot-lab_M3_armgcc_qt/projects/common/03oos_openwsn_prog -l strasbourg,m3,1+2+19+20+29+30+47+48+53+54+5+6+21+22+33+34+49+50+57+58+9+10+23+24+37+38+51+52+61+62\n",
      "iotlab-node --reset -l strasbourg,m3,1+2+19+20+29+30+47+48+53+54+5+6+21+22+33+34+49+50+57+58+9+10+23+24+37+38+51+52+61+62\n"
     ]
    }
   ],
   "source": [
    "cmd = f'iotlab-node --flash {app_path} -l {site},m3,{nodes2list(nodes)}'\n",
    "run_command(cmd)\n",
    "\n",
    "cmd = f'iotlab-node --reset -l {site},m3,{nodes2list(nodes)}'\n",
    "result = run_command(cmd)"
   ]
  },
  {
   "attachments": {},
   "cell_type": "markdown",
   "metadata": {},
   "source": [
    "### Simulate Add\n",
    "    # Stop\n",
    "    # after half time\n",
    "    # Start\n",
    "\n",
    "### Simulate Remove\n",
    "    # afer half time\n",
    "    # Stop\n"
   ]
  },
  {
   "cell_type": "code",
   "execution_count": 34,
   "metadata": {},
   "outputs": [
    {
     "name": "stdout",
     "output_type": "stream",
     "text": [
      "iotlab-node --flash-idle -l strasbourg,m3,47+20+22+49+24+51\n",
      "iotlab-node --reset -l strasbourg,m3,47+20+22+49+24+51\n",
      "iotlab-node --stop -l strasbourg,m3,47+20+22+49+24+51\n"
     ]
    }
   ],
   "source": [
    "# Stop\n",
    "if add_or_remove:\n",
    "    cmd = f\"iotlab-node --flash-idle -l {site},m3,{nodes2list(stop_nodes)}\"\n",
    "    run_command(cmd)\n",
    "\n",
    "    cmd = f'iotlab-node --reset -l {site},m3,{nodes2list(stop_nodes)}'\n",
    "    result = run_command(cmd)\n",
    "\n",
    "    cmd = f'iotlab-node --stop -l {site},m3,{nodes2list(stop_nodes)}'\n",
    "    result = run_command(cmd)"
   ]
  },
  {
   "cell_type": "code",
   "execution_count": 31,
   "metadata": {},
   "outputs": [
    {
     "name": "stdout",
     "output_type": "stream",
     "text": [
      "iotlab-node --flash /Users/dzakyzf/lain/iotlab/openwsniotlab/openwsn-fw/build/iot-lab_M3_armgcc_qt/projects/common/03oos_openwsn_prog -l strasbourg,m3,47+20+22+49+24+51\n",
      "iotlab-node --reset -l strasbourg,m3,47+20+22+49+24+51\n"
     ]
    }
   ],
   "source": [
    "# Start\n",
    "# Add at 5:32 PM\n",
    "if add_or_remove:\n",
    "    cmd = f'iotlab-node --flash {app_path} -l {site},m3,{nodes2list(stop_nodes)}'\n",
    "    run_command(cmd)\n",
    "\n",
    "    cmd = f\"iotlab-node --reset -l {site},m3,{nodes2list(stop_nodes)}\"\n",
    "    run_command(cmd)"
   ]
  },
  {
   "attachments": {},
   "cell_type": "markdown",
   "metadata": {},
   "source": [
    "### Run openvisualizer"
   ]
  },
  {
   "cell_type": "code",
   "execution_count": 57,
   "metadata": {},
   "outputs": [
    {
     "name": "stdout",
     "output_type": "stream",
     "text": [
      "30\n",
      "openv-server --iotlab-motes m3-1.strasbourg.iot-lab.info m3-2.strasbourg.iot-lab.info m3-19.strasbourg.iot-lab.info m3-20.strasbourg.iot-lab.info m3-29.strasbourg.iot-lab.info m3-30.strasbourg.iot-lab.info m3-47.strasbourg.iot-lab.info m3-48.strasbourg.iot-lab.info m3-53.strasbourg.iot-lab.info m3-54.strasbourg.iot-lab.info m3-5.strasbourg.iot-lab.info m3-6.strasbourg.iot-lab.info m3-21.strasbourg.iot-lab.info m3-22.strasbourg.iot-lab.info m3-33.strasbourg.iot-lab.info m3-34.strasbourg.iot-lab.info m3-49.strasbourg.iot-lab.info m3-50.strasbourg.iot-lab.info m3-57.strasbourg.iot-lab.info m3-58.strasbourg.iot-lab.info m3-9.strasbourg.iot-lab.info m3-10.strasbourg.iot-lab.info m3-23.strasbourg.iot-lab.info m3-24.strasbourg.iot-lab.info m3-37.strasbourg.iot-lab.info m3-38.strasbourg.iot-lab.info m3-51.strasbourg.iot-lab.info m3-52.strasbourg.iot-lab.info m3-61.strasbourg.iot-lab.info m3-62.strasbourg.iot-lab.info\n"
     ]
    }
   ],
   "source": [
    "node_site_list = [f'm3-{id_}.{site}.iot-lab.info' for id_ in nodes]\n",
    "cmd = f\"openv-server --iotlab-motes {' '.join(node_site_list)}\"\n",
    "print(len(nodes))\n",
    "print(cmd)"
   ]
  },
  {
   "cell_type": "code",
   "execution_count": 58,
   "metadata": {},
   "outputs": [
    {
     "name": "stdout",
     "output_type": "stream",
     "text": [
      "openv-client root m3-33.strasbourg.iot-lab.info\n"
     ]
    }
   ],
   "source": [
    "root_site = f\"m3-{root}.{site}.iot-lab.info\"\n",
    "cmd = f\"openv-client root {root_site}\"\n",
    "print(cmd)"
   ]
  },
  {
   "attachments": {},
   "cell_type": "markdown",
   "metadata": {},
   "source": [
    "# Plot Energy"
   ]
  },
  {
   "cell_type": "code",
   "execution_count": 80,
   "metadata": {},
   "outputs": [
    {
     "data": {
      "text/plain": [
       "'scp -r -i ~/.ssh/id_rsa dfawwaz@paris.iot-lab.info:/senslab/users/dfawwaz/.iot-lab/352894/consumption/ .'"
      ]
     },
     "execution_count": 80,
     "metadata": {},
     "output_type": "execute_result"
    }
   ],
   "source": [
    "# download oml energy\n",
    "exp_id = 352894\n",
    "oml_path = get_log_path(folder_only=True)\n",
    "cmd = f\"scp -r -i ~/.ssh/id_rsa dfawwaz@{site}.iot-lab.info:/senslab/users/dfawwaz/.iot-lab/{exp_id}/consumption/ .\"\n",
    "cmd"
   ]
  },
  {
   "cell_type": "code",
   "execution_count": 1,
   "metadata": {},
   "outputs": [
    {
     "name": "stdout",
     "output_type": "stream",
     "text": [
      "/Users/dzakyzf/lain/iotlab/notebook\n"
     ]
    }
   ],
   "source": [
    "import sys\n",
    "\n",
    "import matplotlib.pyplot as plt\n",
    "\n",
    "import os\n",
    "import sys\n",
    "module_path = os.path.abspath(os.path.join(''))\n",
    "print(module_path)\n",
    "if module_path not in sys.path:\n",
    "    sys.path.append(module_path)\n",
    "\n",
    "from oml_plot_tools import consum\n",
    "from oml_plot_tools import common\n"
   ]
  },
  {
   "cell_type": "code",
   "execution_count": 3,
   "metadata": {},
   "outputs": [],
   "source": [
    "# Selection variables\n",
    "_POWER = 'power'\n",
    "_VOLTAGE = 'voltage'\n",
    "_CURRENT = 'current'\n",
    "_ALL = 'all'\n",
    "_TIME = 'time'\n",
    "_TITLE = 'Node'\n",
    "\n",
    "\n",
    "MEASURES_D = common.measures_dict(\n",
    "    (_POWER, float, 'Power (W)'),\n",
    "    (_VOLTAGE, float, 'Voltage (V)'),\n",
    "    (_CURRENT, float, 'Current (A)'),\n",
    ")\n"
   ]
  },
  {
   "cell_type": "code",
   "execution_count": 4,
   "metadata": {},
   "outputs": [
    {
     "data": {
      "image/png": "[encoded data removed]",
      "text/plain": [
       "<Figure size 640x480 with 1 Axes>"
      ]
     },
     "metadata": {},
     "output_type": "display_data"
    }
   ],
   "source": [
    "path = 'consumption/m3_1.oml'\n",
    "\n",
    "data = consum.oml_load(path)\n",
    "data = data[0:-1]\n",
    "\n",
    "consum.consumption_plot(data, _TITLE, _CURRENT)"
   ]
  },
  {
   "cell_type": "code",
   "execution_count": 6,
   "metadata": {},
   "outputs": [],
   "source": [
    "import pandas as pd\n",
    "import numpy as np\n",
    "import glob"
   ]
  },
  {
   "cell_type": "code",
   "execution_count": 7,
   "metadata": {},
   "outputs": [
    {
     "data": {
      "text/html": [
       "<div>\n",
       "<style scoped>\n",
       "    .dataframe tbody tr th:only-of-type {\n",
       "        vertical-align: middle;\n",
       "    }\n",
       "\n",
       "    .dataframe tbody tr th {\n",
       "        vertical-align: top;\n",
       "    }\n",
       "\n",
       "    .dataframe thead th {\n",
       "        text-align: right;\n",
       "    }\n",
       "</style>\n",
       "<table border=\"1\" class=\"dataframe\">\n",
       "  <thead>\n",
       "    <tr style=\"text-align: right;\">\n",
       "      <th></th>\n",
       "      <th>timestamp</th>\n",
       "      <th>type</th>\n",
       "      <th>num</th>\n",
       "      <th>t_s</th>\n",
       "      <th>t_us</th>\n",
       "      <th>power</th>\n",
       "      <th>voltage</th>\n",
       "      <th>current</th>\n",
       "    </tr>\n",
       "  </thead>\n",
       "  <tbody>\n",
       "    <tr>\n",
       "      <th>0</th>\n",
       "      <td>1.673373e+09</td>\n",
       "      <td>consumption</td>\n",
       "      <td>1</td>\n",
       "      <td>1673372843</td>\n",
       "      <td>219156</td>\n",
       "      <td>0.055817</td>\n",
       "      <td>3.24250</td>\n",
       "      <td>0.017236</td>\n",
       "    </tr>\n",
       "    <tr>\n",
       "      <th>1</th>\n",
       "      <td>1.673373e+09</td>\n",
       "      <td>consumption</td>\n",
       "      <td>2</td>\n",
       "      <td>1673372843</td>\n",
       "      <td>284090</td>\n",
       "      <td>0.055817</td>\n",
       "      <td>3.24250</td>\n",
       "      <td>0.017221</td>\n",
       "    </tr>\n",
       "    <tr>\n",
       "      <th>2</th>\n",
       "      <td>1.673373e+09</td>\n",
       "      <td>consumption</td>\n",
       "      <td>3</td>\n",
       "      <td>1673372843</td>\n",
       "      <td>349024</td>\n",
       "      <td>0.055817</td>\n",
       "      <td>3.24125</td>\n",
       "      <td>0.017212</td>\n",
       "    </tr>\n",
       "    <tr>\n",
       "      <th>3</th>\n",
       "      <td>1.673373e+09</td>\n",
       "      <td>consumption</td>\n",
       "      <td>4</td>\n",
       "      <td>1673372843</td>\n",
       "      <td>413988</td>\n",
       "      <td>0.055817</td>\n",
       "      <td>3.24125</td>\n",
       "      <td>0.017202</td>\n",
       "    </tr>\n",
       "    <tr>\n",
       "      <th>4</th>\n",
       "      <td>1.673373e+09</td>\n",
       "      <td>consumption</td>\n",
       "      <td>5</td>\n",
       "      <td>1673372843</td>\n",
       "      <td>478922</td>\n",
       "      <td>0.055695</td>\n",
       "      <td>3.24250</td>\n",
       "      <td>0.017187</td>\n",
       "    </tr>\n",
       "    <tr>\n",
       "      <th>...</th>\n",
       "      <td>...</td>\n",
       "      <td>...</td>\n",
       "      <td>...</td>\n",
       "      <td>...</td>\n",
       "      <td>...</td>\n",
       "      <td>...</td>\n",
       "      <td>...</td>\n",
       "      <td>...</td>\n",
       "    </tr>\n",
       "    <tr>\n",
       "      <th>47536</th>\n",
       "      <td>1.673376e+09</td>\n",
       "      <td>consumption</td>\n",
       "      <td>47537</td>\n",
       "      <td>1673375930</td>\n",
       "      <td>723326</td>\n",
       "      <td>0.081344</td>\n",
       "      <td>3.23750</td>\n",
       "      <td>0.025121</td>\n",
       "    </tr>\n",
       "    <tr>\n",
       "      <th>47537</th>\n",
       "      <td>1.673376e+09</td>\n",
       "      <td>consumption</td>\n",
       "      <td>47538</td>\n",
       "      <td>1673375930</td>\n",
       "      <td>788260</td>\n",
       "      <td>0.081710</td>\n",
       "      <td>3.23875</td>\n",
       "      <td>0.025209</td>\n",
       "    </tr>\n",
       "    <tr>\n",
       "      <th>47538</th>\n",
       "      <td>1.673376e+09</td>\n",
       "      <td>consumption</td>\n",
       "      <td>47539</td>\n",
       "      <td>1673375930</td>\n",
       "      <td>853225</td>\n",
       "      <td>0.081466</td>\n",
       "      <td>3.23875</td>\n",
       "      <td>0.025146</td>\n",
       "    </tr>\n",
       "    <tr>\n",
       "      <th>47539</th>\n",
       "      <td>1.673376e+09</td>\n",
       "      <td>consumption</td>\n",
       "      <td>47540</td>\n",
       "      <td>1673375930</td>\n",
       "      <td>918189</td>\n",
       "      <td>0.080611</td>\n",
       "      <td>3.23750</td>\n",
       "      <td>0.024882</td>\n",
       "    </tr>\n",
       "    <tr>\n",
       "      <th>47540</th>\n",
       "      <td>1.673376e+09</td>\n",
       "      <td>consumption</td>\n",
       "      <td>47541</td>\n",
       "      <td>1673375930</td>\n",
       "      <td>983123</td>\n",
       "      <td>0.081344</td>\n",
       "      <td>3.23750</td>\n",
       "      <td>0.025131</td>\n",
       "    </tr>\n",
       "  </tbody>\n",
       "</table>\n",
       "<p>47541 rows × 8 columns</p>\n",
       "</div>"
      ],
      "text/plain": [
       "          timestamp         type    num         t_s    t_us     power  \\\n",
       "0      1.673373e+09  consumption      1  1673372843  219156  0.055817   \n",
       "1      1.673373e+09  consumption      2  1673372843  284090  0.055817   \n",
       "2      1.673373e+09  consumption      3  1673372843  349024  0.055817   \n",
       "3      1.673373e+09  consumption      4  1673372843  413988  0.055817   \n",
       "4      1.673373e+09  consumption      5  1673372843  478922  0.055695   \n",
       "...             ...          ...    ...         ...     ...       ...   \n",
       "47536  1.673376e+09  consumption  47537  1673375930  723326  0.081344   \n",
       "47537  1.673376e+09  consumption  47538  1673375930  788260  0.081710   \n",
       "47538  1.673376e+09  consumption  47539  1673375930  853225  0.081466   \n",
       "47539  1.673376e+09  consumption  47540  1673375930  918189  0.080611   \n",
       "47540  1.673376e+09  consumption  47541  1673375930  983123  0.081344   \n",
       "\n",
       "       voltage   current  \n",
       "0      3.24250  0.017236  \n",
       "1      3.24250  0.017221  \n",
       "2      3.24125  0.017212  \n",
       "3      3.24125  0.017202  \n",
       "4      3.24250  0.017187  \n",
       "...        ...       ...  \n",
       "47536  3.23750  0.025121  \n",
       "47537  3.23875  0.025209  \n",
       "47538  3.23875  0.025146  \n",
       "47539  3.23750  0.024882  \n",
       "47540  3.23750  0.025131  \n",
       "\n",
       "[47541 rows x 8 columns]"
      ]
     },
     "execution_count": 7,
     "metadata": {},
     "output_type": "execute_result"
    }
   ],
   "source": [
    "df = pd.DataFrame(data, columns=data.dtype.names)\n",
    "df"
   ]
  },
  {
   "cell_type": "code",
   "execution_count": 8,
   "metadata": {},
   "outputs": [
    {
     "data": {
      "text/plain": [
       "[<matplotlib.lines.Line2D at 0x1385bf1d0>]"
      ]
     },
     "execution_count": 8,
     "metadata": {},
     "output_type": "execute_result"
    },
    {
     "data": {
      "image/png": "[encoded data removed]",
      "text/plain": [
       "<Figure size 640x480 with 1 Axes>"
      ]
     },
     "metadata": {},
     "output_type": "display_data"
    }
   ],
   "source": [
    "x, y = df[['timestamp','current']].values.T\n",
    "\n",
    "plt.plot(x, y)"
   ]
  },
  {
   "cell_type": "code",
   "execution_count": 10,
   "metadata": {},
   "outputs": [],
   "source": [
    "currents = []\n",
    "for path in glob.glob(os.path.join(\"consumption\", '*.oml')):\n",
    "    data = consum.oml_load(path)\n",
    "    data = data[0:-1]\n",
    "    df = pd.DataFrame(data, columns=data.dtype.names)\n",
    "    timestamp, current = df[['timestamp','current']].values.T\n",
    "    currents.extend(current)"
   ]
  },
  {
   "cell_type": "code",
   "execution_count": 11,
   "metadata": {},
   "outputs": [
    {
     "data": {
      "text/plain": [
       "0.01892486574445936"
      ]
     },
     "execution_count": 11,
     "metadata": {},
     "output_type": "execute_result"
    }
   ],
   "source": [
    "np.mean(currents) # mAs"
   ]
  },
  {
   "attachments": {},
   "cell_type": "markdown",
   "metadata": {},
   "source": [
    "# Compute KPI IoT Lab"
   ]
  },
  {
   "cell_type": "code",
   "execution_count": 47,
   "metadata": {},
   "outputs": [],
   "source": [
    "from scipy import stats as st\n",
    "import os\n",
    "import json\n",
    "from appdirs import user_data_dir\n",
    "from varname import nameof\n",
    "from datetime import datetime\n",
    "import numpy as np\n",
    "from scipy import stats as st\n",
    "from scipy.stats import skew, kurtosis\n",
    "\n",
    "file_name = 'exp_log_20230112-05-03-10'\n",
    "# file_name = 'exp_log'\n",
    "output_name = 'exp_kpi'\n",
    "time_format = \"%H:%M:%S.%f\"\n",
    "\n",
    "def get_log_path(file_name, format=\"txt\"):\n",
    "    return os.path.join(user_data_dir('openvisualizer'), file_name+\".\"+format)\n",
    "\n",
    "def openfile(func):\n",
    "    def inner(inputfile):\n",
    "        with open(inputfile, 'r') as f:\n",
    "            return func(f)\n",
    "    return inner\n",
    "\n",
    "def parse_time(time_s):\n",
    "    return datetime.strptime(time_s, time_format)\n",
    "\n",
    "def generate_stats(val):\n",
    "    return {\n",
    "        'count': (\n",
    "            len(val)\n",
    "            if val else 'N/A'\n",
    "        ),\n",
    "        'sum': (\n",
    "            sum(val)\n",
    "            if val else 'N/A'\n",
    "        ),\n",
    "        'min': (\n",
    "            np.min(val)\n",
    "            if val else 'N/A'\n",
    "        ),\n",
    "        'max': (\n",
    "            np.max(val)\n",
    "            if val else 'N/A'\n",
    "        ),\n",
    "        'mean': (\n",
    "            np.mean(val)\n",
    "            if val else 'N/A'\n",
    "        ),\n",
    "        'median': (\n",
    "            np.median(val)\n",
    "            if val else 'N/A'\n",
    "        ),\n",
    "        '75%': (\n",
    "            np.percentile(val, 75)\n",
    "            if val else 'N/A'\n",
    "        ),\n",
    "        '95%': (\n",
    "            np.percentile(val, 95)\n",
    "            if val else 'N/A'\n",
    "        ),\n",
    "        'std': (\n",
    "            np.std(val)\n",
    "            if val else 'N/A'\n",
    "        ),\n",
    "        'var': (\n",
    "            np.var(val)\n",
    "            if val else 'N/A'\n",
    "        ),\n",
    "        'skew': (\n",
    "            skew(val)\n",
    "            if val else 'N/A'\n",
    "        ),\n",
    "        'kurtosis': (\n",
    "            kurtosis(val)\n",
    "            if val else 'N/A'\n",
    "        ),\n",
    "    }\n",
    "\n",
    "@openfile\n",
    "def kpis_all(inputfile):\n",
    "    allstats = {\n",
    "        \"start_root\": None,\n",
    "        \"motes\": {}\n",
    "    }\n",
    "\n",
    "    for line in inputfile:\n",
    "        logline = json.loads(line)\n",
    "        time = logline['time']\n",
    "        time = parse_time(time)\n",
    "        state = logline['0_state']\n",
    "\n",
    "        mote_id = None\n",
    "        if \"mote_id\" in logline:\n",
    "            mote_id = logline['mote_id']\n",
    "            mote_id = hex(mote_id)[2:]\n",
    "\n",
    "        if state == 'root' and allstats[\"start_root\"] is None:\n",
    "            allstats[\"start_root\"] = time\n",
    "    \n",
    "        if state == 'join' and allstats[\"start_root\"]:\n",
    "            join_at = time\n",
    "            join_time = max((join_at - allstats[\"start_root\"]).total_seconds(), 0)\n",
    "                \n",
    "            if mote_id not in allstats['motes']:\n",
    "                allstats['motes'][mote_id] = {'mote_join_time': None}\n",
    "            \n",
    "            if allstats['motes'][mote_id][\"mote_join_time\"] is None:        \n",
    "                allstats['motes'][mote_id][\"mote_join_time\"] = join_time / 60\n",
    "        \n",
    "        if state == 'trickle':\n",
    "            Nstate = logline['Nstates']\n",
    "\n",
    "            # pkt pf\n",
    "            if \"trickle\" not in allstats['motes'][mote_id]:\n",
    "                allstats['motes'][mote_id][\"trickle\"] = {}\n",
    "\n",
    "            if Nstate not in allstats['motes'][mote_id][\"trickle\"]:\n",
    "                allstats['motes'][mote_id][\"trickle\"][Nstate] = {}\n",
    "            \n",
    "            temp = logline\n",
    "            del temp['0_state']\n",
    "            del temp['Nstates']\n",
    "            del temp['mote_id']\n",
    "            del temp['time']\n",
    "\n",
    "            for key in logline.keys():\n",
    "                allstats['motes'][mote_id][\"trickle\"][Nstate][key] = logline[key]\n",
    "\n",
    "\n",
    "        if state == 'send':\n",
    "            counter = logline[\"counter\"]\n",
    "\n",
    "            # keep update to get the last\n",
    "            allstats['motes'][mote_id][\"mote_ambr\"] = logline[\"ambr\"]\n",
    "            \n",
    "            if mote_id not in allstats['motes']:\n",
    "                allstats['motes'][mote_id] = {}\n",
    "            \n",
    "            if \"mote_total_fail\" not in allstats['motes'][mote_id]:\n",
    "                allstats['motes'][mote_id][\"mote_total_fail\"] = 0\n",
    "            \n",
    "            if logline[\"is_failed\"]:\n",
    "                allstats['motes'][mote_id][\"mote_total_fail\"] += 1\n",
    "\n",
    "            # pkt time\n",
    "            if \"packets\" not in allstats['motes'][mote_id]:\n",
    "                allstats['motes'][mote_id][\"packets\"] = {}\n",
    "\n",
    "            if counter not in allstats['motes'][mote_id][\"packets\"]:\n",
    "                allstats['motes'][mote_id][\"packets\"][counter] = {}\n",
    "            \n",
    "            allstats['motes'][mote_id][\"packets\"][counter][\"send_time\"] = time\n",
    "\n",
    "        if state == 'receive':\n",
    "            counter = logline[\"counter\"]\n",
    "            \n",
    "            if mote_id not in allstats['motes']:\n",
    "                allstats['motes'][mote_id] = {}\n",
    "\n",
    "            # pkt time\n",
    "            if \"packets\" not in allstats['motes'][mote_id]:\n",
    "                allstats['motes'][mote_id][\"packets\"] = {}\n",
    "\n",
    "            if counter not in allstats['motes'][mote_id][\"packets\"]:\n",
    "                allstats['motes'][mote_id][\"packets\"][counter] = {}\n",
    "            \n",
    "            allstats['motes'][mote_id][\"packets\"][counter][\"receive_time\"] = time\n",
    "        \n",
    "        if state == 'receive' or state == 'send':\n",
    "            counter = logline[\"counter\"]\n",
    "\n",
    "            if (\n",
    "                'send_time' in allstats['motes'][mote_id][\"packets\"][counter] and\n",
    "                'receive_time' in allstats['motes'][mote_id][\"packets\"][counter]\n",
    "            ):\n",
    "                send_ = allstats['motes'][mote_id][\"packets\"][counter]['send_time']\n",
    "                receive_ = allstats['motes'][mote_id][\"packets\"][counter]['receive_time']\n",
    "\n",
    "                diff = max((receive_ - send_).total_seconds(), 0)\n",
    "                allstats['motes'][mote_id][\"packets\"][counter][\"pkt_latency\"] = diff\n",
    "\n",
    "    del allstats['start_root']\n",
    "    all_motes_data = {}\n",
    "\n",
    "    for mote_id in allstats['motes'].keys():\n",
    "        # calculate latency\n",
    "        latencies = []\n",
    "        for pkt in allstats['motes'][mote_id]['packets'].keys():\n",
    "            if 'pkt_latency' in allstats['motes'][mote_id]['packets'][pkt]:\n",
    "                pkt_latency = allstats['motes'][mote_id]['packets'][pkt][\"pkt_latency\"]\n",
    "                latencies.append(pkt_latency)\n",
    "\n",
    "            if 'send_time' in allstats['motes'][mote_id]['packets'][pkt]:\n",
    "                # mote level \n",
    "                if \"mote_total_send\" not in allstats['motes'][mote_id]:\n",
    "                    allstats['motes'][mote_id][\"mote_total_send\"] = 0\n",
    "                allstats['motes'][mote_id][\"mote_total_send\"] += 1\n",
    "                \n",
    "                if 'receive_time' in allstats['motes'][mote_id]['packets'][pkt]:\n",
    "                    # mote level \n",
    "                    if \"mote_total_receive\" not in allstats['motes'][mote_id]:\n",
    "                        allstats['motes'][mote_id][\"mote_total_receive\"] = 0\n",
    "                    allstats['motes'][mote_id][\"mote_total_receive\"] += 1\n",
    "\n",
    "        del allstats['motes'][mote_id]['packets']\n",
    "\n",
    "        if len(latencies) > 0:\n",
    "            allstats['motes'][mote_id][\"mote_min_latency\"] = np.min(latencies)\n",
    "            allstats['motes'][mote_id][\"mote_max_latency\"] = np.max(latencies)\n",
    "            allstats['motes'][mote_id][\"mote_avg_latency\"] = np.mean(latencies)\n",
    "\n",
    "        # calculate mote pdr\n",
    "        mote_total_send = None\n",
    "        mote_total_receive = None\n",
    "        if 'mote_total_send' in allstats['motes'][mote_id] and 'mote_total_receive' in allstats['motes'][mote_id]:\n",
    "            mote_total_send = allstats['motes'][mote_id][\"mote_total_send\"]\n",
    "            mote_total_receive = allstats['motes'][mote_id][\"mote_total_receive\"]\n",
    "            if mote_total_send > 0 and mote_total_receive > 0:\n",
    "                allstats['motes'][mote_id][\"mote_pdr\"] = allstats['motes'][mote_id][\"mote_total_receive\"] / allstats['motes'][mote_id][\"mote_total_send\"]\n",
    "\n",
    "        # get ambr\n",
    "        ambr = None\n",
    "        if 'mote_ambr' in allstats['motes'][mote_id]:\n",
    "            ambr = allstats['motes'][mote_id][\"mote_ambr\"]\n",
    "\n",
    "        join_time = None\n",
    "        if 'mote_join_time' in allstats['motes'][mote_id]:\n",
    "            join_time = allstats['motes'][mote_id][\"mote_join_time\"]\n",
    "\n",
    "        total_states = None\n",
    "        if 'trickle' in allstats['motes'][mote_id]:\n",
    "            total_states = len(allstats['motes'][mote_id]['trickle'])\n",
    "            allstats['motes'][mote_id][\"mote_trickle_states\"] = total_states\n",
    "\n",
    "            for trickle_state in allstats['motes'][mote_id]['trickle'].keys():\n",
    "                for param in allstats['motes'][mote_id]['trickle'][trickle_state].keys():\n",
    "                    value = float(allstats['motes'][mote_id]['trickle'][trickle_state][param])\n",
    "                    key = \"trickle_\"+param\n",
    "                    if key not in all_motes_data:\n",
    "                        all_motes_data[key] = []\n",
    "                    \n",
    "                    all_motes_data[key].append(value)\n",
    "        \n",
    "        # gather mote data for global stats\n",
    "        if 'latency' not in all_motes_data:\n",
    "            all_motes_data['latency'] = []\n",
    "        if 'pdr' not in all_motes_data:\n",
    "            all_motes_data['pdr'] = {'send': 0, 'receive': 0}\n",
    "        if 'ambr' not in all_motes_data:\n",
    "            all_motes_data['ambr'] = []\n",
    "        if 'join_time' not in all_motes_data:\n",
    "            all_motes_data['join_time'] = []\n",
    "        if 'total_states' not in all_motes_data:\n",
    "            all_motes_data['total_states'] = []\n",
    "\n",
    "        if latencies: all_motes_data['latency'].extend(latencies)\n",
    "        if mote_total_send and mote_total_receive:\n",
    "            all_motes_data['pdr']['send'] += mote_total_send\n",
    "            all_motes_data['pdr']['receive'] += mote_total_receive\n",
    "\n",
    "        if ambr: all_motes_data['ambr'].append(ambr)\n",
    "        if join_time: all_motes_data['join_time'].append(join_time)\n",
    "        if total_states: all_motes_data['total_states'].append(total_states)\n",
    "\n",
    "    # calculate mote latency stat\n",
    "    for key in all_motes_data.keys():\n",
    "        if key == 'pdr':\n",
    "            allstats[\"global_\"+key]  = all_motes_data[key]['receive'] / all_motes_data[key]['send']\n",
    "            continue\n",
    "\n",
    "        allstats[\"global_\"+key] = generate_stats(all_motes_data[key])\n",
    "    \n",
    "\n",
    "    allstats[\"global_total_motes\"] = len(allstats['motes']) + 1\n",
    "\n",
    "    return allstats\n",
    "\n",
    "filepath = get_log_path(file_name)\n",
    "kpis = kpis_all(filepath)\n",
    "\n",
    "output = get_log_path(output_name, \"json\")\n",
    "with open(output, 'w') as f:\n",
    "    f.write(json.dumps(kpis, indent=4, sort_keys=True, default=str))"
   ]
  },
  {
   "cell_type": "code",
   "execution_count": 13,
   "metadata": {},
   "outputs": [
    {
     "name": "stdout",
     "output_type": "stream",
     "text": [
      "iotlab-status --nodes --archi m3 --site strasbourg\n"
     ]
    }
   ],
   "source": [
    "# Get mapping id\n",
    "# cmd = 'iotlab-status --nodes --archi m3 --site strasbourg'\n",
    "# result = run_command(cmd)\n",
    "\n",
    "# for mote in result['items']:\n",
    "#     map_motes = {}\n",
    "#     map_motes['network_address'] = mote['network_address']\n",
    "#     map_motes['uid'] = mote['uid']"
   ]
  }
 ],
 "metadata": {
  "kernelspec": {
   "display_name": "Python 3",
   "language": "python",
   "name": "python3"
  },
  "language_info": {
   "codemirror_mode": {
    "name": "ipython",
    "version": 3
   },
   "file_extension": ".py",
   "mimetype": "text/x-python",
   "name": "python",
   "nbconvert_exporter": "python",
   "pygments_lexer": "ipython3",
   "version": "3.7.15 (default, Oct 11 2022, 13:45:04) \n[Clang 14.0.0 (clang-1400.0.29.102)]"
  },
  "orig_nbformat": 4,
  "vscode": {
   "interpreter": {
    "hash": "e774977668b7c0ae8309835a5187aa7fbf7669e7d0bb59755bc63e573643edcd"
   }
  }
 },
 "nbformat": 4,
 "nbformat_minor": 2
}
